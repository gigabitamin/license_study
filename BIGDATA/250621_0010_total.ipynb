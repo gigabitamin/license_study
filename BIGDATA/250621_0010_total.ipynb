{
 "cells": [
  {
   "cell_type": "markdown",
   "id": "58a3a6fa",
   "metadata": {},
   "source": [
    "# 빅분기"
   ]
  },
  {
   "cell_type": "code",
   "execution_count": 1,
   "id": "fedb12b4",
   "metadata": {},
   "outputs": [],
   "source": [
    "# 여러줄 출력 가능\n",
    "from IPython.core.interactiveshell import InteractiveShell\n",
    "InteractiveShell.ast_node_interactivity = \"all\""
   ]
  },
  {
   "cell_type": "code",
   "execution_count": null,
   "id": "ebf1358f",
   "metadata": {},
   "outputs": [],
   "source": []
  },
  {
   "cell_type": "markdown",
   "id": "253a76fa",
   "metadata": {},
   "source": [
    "# 1 유형"
   ]
  },
  {
   "cell_type": "markdown",
   "id": "80346f54",
   "metadata": {},
   "source": []
  },
  {
   "cell_type": "markdown",
   "id": "7f25b6f0",
   "metadata": {},
   "source": [
    "### "
   ]
  },
  {
   "cell_type": "code",
   "execution_count": null,
   "id": "10d6a948",
   "metadata": {},
   "outputs": [],
   "source": []
  },
  {
   "cell_type": "code",
   "execution_count": null,
   "id": "d40c1336",
   "metadata": {},
   "outputs": [],
   "source": []
  },
  {
   "cell_type": "code",
   "execution_count": null,
   "id": "7ab175d7",
   "metadata": {},
   "outputs": [],
   "source": []
  },
  {
   "cell_type": "code",
   "execution_count": null,
   "id": "e836ed12",
   "metadata": {},
   "outputs": [],
   "source": []
  },
  {
   "cell_type": "code",
   "execution_count": null,
   "id": "37a08adb",
   "metadata": {},
   "outputs": [],
   "source": []
  },
  {
   "cell_type": "code",
   "execution_count": null,
   "id": "b96b1729",
   "metadata": {},
   "outputs": [],
   "source": []
  },
  {
   "cell_type": "markdown",
   "id": "70b304de",
   "metadata": {},
   "source": []
  },
  {
   "cell_type": "markdown",
   "id": "1b82ce0e",
   "metadata": {},
   "source": [
    "### "
   ]
  },
  {
   "cell_type": "code",
   "execution_count": null,
   "id": "3897508c",
   "metadata": {},
   "outputs": [],
   "source": []
  },
  {
   "cell_type": "code",
   "execution_count": null,
   "id": "35b7fcd7",
   "metadata": {},
   "outputs": [],
   "source": []
  },
  {
   "cell_type": "code",
   "execution_count": null,
   "id": "9eb412b1",
   "metadata": {},
   "outputs": [],
   "source": []
  },
  {
   "cell_type": "code",
   "execution_count": null,
   "id": "c6ab35f2",
   "metadata": {},
   "outputs": [],
   "source": []
  },
  {
   "cell_type": "code",
   "execution_count": null,
   "id": "db05d19e",
   "metadata": {},
   "outputs": [],
   "source": []
  },
  {
   "cell_type": "code",
   "execution_count": null,
   "id": "613b1ea2",
   "metadata": {},
   "outputs": [],
   "source": []
  },
  {
   "cell_type": "code",
   "execution_count": null,
   "id": "d59b63c0",
   "metadata": {},
   "outputs": [],
   "source": []
  },
  {
   "cell_type": "markdown",
   "id": "89cd9577",
   "metadata": {},
   "source": []
  },
  {
   "cell_type": "markdown",
   "id": "9553e713",
   "metadata": {},
   "source": [
    "### "
   ]
  },
  {
   "cell_type": "code",
   "execution_count": null,
   "id": "3af3333c",
   "metadata": {},
   "outputs": [],
   "source": []
  },
  {
   "cell_type": "code",
   "execution_count": null,
   "id": "0b465ab1",
   "metadata": {},
   "outputs": [],
   "source": []
  },
  {
   "cell_type": "code",
   "execution_count": null,
   "id": "33a278ef",
   "metadata": {},
   "outputs": [],
   "source": []
  },
  {
   "cell_type": "code",
   "execution_count": null,
   "id": "3b8ebafa",
   "metadata": {},
   "outputs": [],
   "source": []
  },
  {
   "cell_type": "code",
   "execution_count": null,
   "id": "3b67c79f",
   "metadata": {},
   "outputs": [],
   "source": []
  },
  {
   "cell_type": "code",
   "execution_count": null,
   "id": "f2add54b",
   "metadata": {},
   "outputs": [],
   "source": []
  },
  {
   "cell_type": "code",
   "execution_count": null,
   "id": "d209394c",
   "metadata": {},
   "outputs": [],
   "source": []
  },
  {
   "cell_type": "code",
   "execution_count": null,
   "id": "533db588",
   "metadata": {},
   "outputs": [],
   "source": []
  },
  {
   "cell_type": "markdown",
   "id": "01e3e65b",
   "metadata": {},
   "source": [
    "# "
   ]
  },
  {
   "cell_type": "markdown",
   "id": "844b019a",
   "metadata": {},
   "source": []
  },
  {
   "cell_type": "code",
   "execution_count": null,
   "id": "5d0df4fa",
   "metadata": {},
   "outputs": [],
   "source": []
  },
  {
   "cell_type": "code",
   "execution_count": null,
   "id": "9edcfb9d",
   "metadata": {},
   "outputs": [],
   "source": []
  },
  {
   "cell_type": "code",
   "execution_count": null,
   "id": "d1cea4bb",
   "metadata": {},
   "outputs": [],
   "source": []
  },
  {
   "cell_type": "code",
   "execution_count": null,
   "id": "0a8a5aaa",
   "metadata": {},
   "outputs": [],
   "source": []
  },
  {
   "cell_type": "code",
   "execution_count": null,
   "id": "f3568ba2",
   "metadata": {},
   "outputs": [],
   "source": []
  },
  {
   "cell_type": "code",
   "execution_count": null,
   "id": "ed2ccb46",
   "metadata": {},
   "outputs": [],
   "source": []
  },
  {
   "cell_type": "code",
   "execution_count": null,
   "id": "a26b5cc7",
   "metadata": {},
   "outputs": [],
   "source": []
  },
  {
   "cell_type": "code",
   "execution_count": null,
   "id": "6090e5b9",
   "metadata": {},
   "outputs": [],
   "source": []
  },
  {
   "cell_type": "code",
   "execution_count": null,
   "id": "c003133d",
   "metadata": {},
   "outputs": [],
   "source": []
  },
  {
   "cell_type": "code",
   "execution_count": null,
   "id": "54b74d5c",
   "metadata": {},
   "outputs": [],
   "source": []
  },
  {
   "cell_type": "markdown",
   "id": "1a221dc2",
   "metadata": {},
   "source": [
    "# 2"
   ]
  },
  {
   "cell_type": "markdown",
   "id": "90c1eec9",
   "metadata": {},
   "source": [
    "### "
   ]
  },
  {
   "cell_type": "code",
   "execution_count": null,
   "id": "1e68be55",
   "metadata": {},
   "outputs": [],
   "source": [
    "# 출력을 원하실 경우 print() 함수 활용\n",
    "# 예시) print(df.head())\n",
    "\n",
    "# getcwd(), chdir() 등 작업 폴더 설정 불필요\n",
    "# 파일 경로 상 내부 드라이브 경로(C: 등) 접근 불가\n",
    "\n",
    "import pandas as pd\n",
    "\n",
    "train = pd.read_csv(\"data/customer_train.csv\")\n",
    "test = pd.read_csv(\"data/customer_test.csv\")\n",
    "\n",
    "# 사용자 코딩\n",
    "\n",
    "# 답안 제출 참고\n",
    "# 아래 코드는 예시이며 변수명 등 개인별로 변경하여 활용\n",
    "# pd.DataFrame변수.to_csv(\"result.csv\", index=False)\n",
    "\n",
    "# train.info()\n",
    "# test.info()\n",
    "# print(train.isnull().sum(), '\\n') # 환불금액 2300개\n",
    "# print(test.isnull().sum(), '\\n') # 환불금액 1615개\n",
    "# print(train.nunique(), '\\n')\n",
    "# print(test.nunique(), '\\n')\n",
    "# print(train['회원ID'].value_counts(), '\\n') # 모두 1 중복 x\n",
    "# print(test['회원ID'].value_counts(), '\\n') # 모두 1 중복 x\n",
    "# print(train[:1], '\\n')\n",
    "# print(test[:1], '\\n')\n",
    "\n",
    "# ===== train\n",
    "# angeIndex: 3500 entries, 0 to 3499\n",
    "# Data columns (total 10 columns):\n",
    "#  #   Column   Non-Null Count  Dtype  \n",
    "# ---  ------   --------------  -----  \n",
    "#  0   회원ID     3500 non-null   int64  \n",
    "#  1   총구매액     3500 non-null   int64  \n",
    "#  2   최대구매액    3500 non-null   int64  \n",
    "#  3   환불금액     1200 non-null   float64\n",
    "#  4   주구매상품    3500 non-null   object \n",
    "#  5   주구매지점    3500 non-null   object \n",
    "#  6   방문일수     3500 non-null   int64  \n",
    "#  7   방문당구매건수  3500 non-null   float64\n",
    "#  8   주말방문비율   3500 non-null   float64\n",
    "#  9   구매주기     3500 non-null   int64  \n",
    "\n",
    "# ===== test\n",
    "# RangeIndex: 2482 entries, 0 to 2481\n",
    "# Data columns (total 9 columns):\n",
    "#  #   Column   Non-Null Count  Dtype  \n",
    "# ---  ------   --------------  -----  \n",
    "#  0   회원ID     2482 non-null   int64  \n",
    "#  1   최대구매액    2482 non-null   int64  \n",
    "#  2   환불금액     867 non-null    float64\n",
    "#  3   주구매상품    2482 non-null   object \n",
    "#  4   주구매지점    2482 non-null   object \n",
    "#  5   방문일수     2482 non-null   int64  \n",
    "#  6   방문당구매건수  2482 non-null   float64\n",
    "#  7   주말방문비율   2482 non-null   float64\n",
    "#  8   구매주기     2482 non-null   int64  \n",
    "\n",
    "\n",
    "from sklearn.model_selection import train_test_split\n",
    "from sklearn.ensemble import RandomForestRegressor\n",
    "from sklearn.preprocessing import MinMaxScaler\n",
    "from sklearn.metrics import mean_squared_error\n",
    "\n",
    "# import sklearn\n",
    "# print(dir(sklearn.preprocessing))\n",
    "# > ['Binarizer', 'FunctionTransformer', 'KBinsDiscretizer', 'KernelCenterer', 'LabelBinarizer', 'LabelEncoder', 'MaxAbsScaler', 'MinMaxScaler', 'MultiLabelBinarizer', 'Normalizer', 'OneHotEncoder', 'OrdinalEncoder', 'PolynomialFeatures', 'PowerTransformer', 'QuantileTransformer', 'RobustScaler', 'SplineTransformer', 'StandardScaler', 'TargetEncoder', '__all__', '__builtins__', '__cached__', '__doc__', '__file__', '__loader__', '__name__', '__package__', '__path__', '__spec__', '_csr_polynomial_expansion', '_data', '_discretization', '_encoders', '_function_transformer', '_label', '_polynomial', '_target_encoder', '_target_encoder_fast', 'add_dummy_feature', 'binarize', 'label_binarize', 'maxabs_scale', 'minmax_scale', 'normalize', 'power_transform', 'quantile_transform', 'robust_scale', 'scale']\n",
    "\n",
    "# print(dir(sklearn.metrics))\n",
    "# > ['ConfusionMatrixDisplay', 'DetCurveDisplay', 'DistanceMetric', 'PrecisionRecallDisplay', 'PredictionErrorDisplay', 'RocCurveDisplay', '__all__', '__builtins__', '__cached__', '__doc__', '__file__', '__loader__', '__name__', '__package__', '__path__', '__spec__', '_base', '_classification', '_dist_metrics', '_pairwise_distances_reduction', '_pairwise_fast', '_plot', '_ranking', '_regression', '_scorer', 'accuracy_score', 'adjusted_mutual_info_score', 'adjusted_rand_score', 'auc', 'average_precision_score', 'balanced_accuracy_score', 'brier_score_loss', 'calinski_harabasz_score', 'check_scoring', 'class_likelihood_ratios', 'classification_report', 'cluster', 'cohen_kappa_score', 'completeness_score', 'confusion_matrix', 'consensus_score', 'coverage_error', 'd2_absolute_error_score', 'd2_log_loss_score', 'd2_pinball_score', 'd2_tweedie_score', 'davies_bouldin_score', 'dcg_score', 'det_curve', 'euclidean_distances', 'explained_variance_score', 'f1_score', 'fbeta_score', 'fowlkes_mallows_score', 'get_scorer', 'get_scorer_names', 'hamming_loss', 'hinge_loss', 'homogeneity_completeness_v_measure', 'homogeneity_score', 'jaccard_score', 'label_ranking_average_precision_score', 'label_ranking_loss', 'log_loss', 'make_scorer', 'matthews_corrcoef', 'max_error', 'mean_absolute_error', 'mean_absolute_percentage_error', 'mean_gamma_deviance', 'mean_pinball_loss', 'mean_poisson_deviance', 'mean_squared_error', 'mean_squared_log_error', 'mean_tweedie_deviance', 'median_absolute_error', 'multilabel_confusion_matrix', 'mutual_info_score', 'nan_euclidean_distances', 'ndcg_score', 'normalized_mutual_info_score', 'pair_confusion_matrix', 'pairwise', 'pairwise_distances', 'pairwise_distances_argmin', 'pairwise_distances_argmin_min', 'pairwise_distances_chunked', 'pairwise_kernels', 'precision_recall_curve', 'precision_recall_fscore_support', 'precision_score', 'r2_score', 'rand_score', 'recall_score', 'roc_auc_score', 'roc_curve', 'root_mean_squared_error', 'root_mean_squared_log_error', 'silhouette_samples', 'silhouette_score', 'top_k_accuracy_score', 'v_measure_score', 'zero_one_loss']\n",
    "\n",
    "# =====================\n",
    "\n",
    "y = train['총구매액']\n",
    "x_train = train.drop('총구매액', axis=1)\n",
    "x_test = test\n",
    "\n",
    "# 1) 결측치 대체 - 환불금액 -> 환불 없으면 0원 0으로 대체\n",
    "# print(help(pd.DataFrame.fillna))\n",
    "x_train['환불금액'] = x_train['환불금액'].fillna(0)\n",
    "x_test['환불금액'] = x_test['환불금액'].fillna(0)\n",
    "# print(x_train['환불금액'].isnull().sum()) # 0개\n",
    "# print(x_test['환불금액'].isnull().sum()) # 0개\n",
    "\n",
    "# 수치형 컬럼 뽑아내기\n",
    "x_train_ncols = x_train.select_dtypes(include='number').columns\n",
    "x_test_ncols = x_test.select_dtypes(include='number').columns\n",
    "# 범주형 컬럼 뽑아내기\n",
    "x_train_ccols = x_train.select_dtypes(include='object').columns\n",
    "x_test_ccols = x_test.select_dtypes(include='object').columns\n",
    "# print(x_train_ncols)\n",
    "# print(x_test_ncols)\n",
    "# print(x_train_ccols)\n",
    "# print(x_test_ccols)\n",
    "\n",
    "# Index(['회원ID', '최대구매액', '환불금액', '방문일수', '방문당구매건수', '주말방문비율', '구매주기'], dtype='object')\n",
    "# Index(['회원ID', '최대구매액', '환불금액', '방문일수', '방문당구매건수', '주말방문비율', '구매주기'], dtype='object')\n",
    "# Index(['주구매상품', '주구매지점'], dtype='object')\n",
    "# Index(['주구매상품', '주구매지점'], dtype='object')\n",
    "# x_train 과 x_test 컬럼은 동일하다면 한쪽만 호출 O\n",
    "\n",
    "# 2) 수치형 데이터 스케일링\n",
    "mms = MinMaxScaler()\n",
    "x_train[x_train_ncols] = mms.fit_transform(x_train[x_train_ncols])\n",
    "x_test[x_test_ncols] = mms.transform(x_test[x_test_ncols]) # fit x\n",
    "\n",
    "# print(x_train[:1])\n",
    "# print(x_test[:1])\n",
    "\n",
    "# 3) 범주형 데이터 원핫인코딩\n",
    "x_train = pd.get_dummies(x_train, columns=x_train_ccols)\n",
    "x_test = pd.get_dummies(x_test, columns=x_test_ccols)\n",
    "# print(x_train.info())\n",
    "# print(x_test.info())\n",
    "\n",
    "# train/test 컬럼이 동일하지 않을 경우 → 열 맞추기\n",
    "x_train, x_test = x_train.align(x_test, join='left', axis=1, fill_value=0)\n",
    "# print(x_train.info())\n",
    "# print(x_test.info())\n",
    "\n",
    "# 4) 데이터 분리\n",
    "# print(help(train_test_split))\n",
    "X_train, X_val, y_train, y_val = train_test_split(x_train, y, test_size=0.25,random_state=42)\n",
    "\n",
    "\n",
    "# 5) 학습\n",
    "rfr = RandomForestRegressor()\n",
    "rfr.fit(X_train, y_train)\n",
    "\n",
    "pred_val = rfr.predict(X_val)\n",
    "# print(pred_val)\n",
    "\n",
    "# print(dir(model))\n",
    "# ['__abstractmethods__', '__annotations__', '__class__', '__delattr__', '__dict__', '__dir__', '__doc__', '__eq__', '__format__', '__ge__', '__getattribute__', '__getitem__', '__getstate__', '__gt__', '__hash__', '__init__', '__init_subclass__', '__iter__', '__le__', '__len__', '__lt__', '__module__', '__ne__', '__new__', '__reduce__', '__reduce_ex__', '__repr__', '__setattr__', '__setstate__', '__sizeof__', '__sklearn_clone__', '__str__', '__subclasshook__', '__weakref__', '_abc_impl', '_build_request_for_signature', '_check_feature_names', '_check_n_features', '_compute_oob_predictions', '_compute_partial_dependence_recursion', '_doc_link_module', '_doc_link_template', '_doc_link_url_param_generator', '_estimator_type', '_get_default_requests', '_get_doc_link', '_get_estimators_indices', '_get_metadata_request', '_get_oob_predictions', '_get_param_names', '_get_tags', '_make_estimator', '_more_tags', '_n_samples', '_n_samples_bootstrap', '_parameter_constraints', '_repr_html_', '_repr_html_inner', '_repr_mimebundle_', '_required_parameters', '_set_oob_score_and_attributes', '_validate_X_predict', '_validate_data', '_validate_estimator', '_validate_params', '_validate_y_class_weight', 'apply', 'bootstrap', 'ccp_alpha', 'class_weight', 'criterion', 'decision_path', 'estimator', 'estimator_', 'estimator_params', 'estimators_', 'estimators_samples_', 'feature_importances_', 'feature_names_in_', 'fit', 'get_metadata_routing', 'get_params', 'max_depth', 'max_features', 'max_leaf_nodes', 'max_samples', 'min_impurity_decrease', 'min_samples_leaf', 'min_samples_split', 'min_weight_fraction_leaf', 'monotonic_cst', 'n_estimators', 'n_features_in_', 'n_jobs', 'n_outputs_', 'oob_score', 'predict', 'random_state', 'score', 'set_fit_request', 'set_params', 'set_score_request', 'verbose', 'warm_start']\n",
    "\n",
    "# print(help(mean_squared_error))\n",
    "mse = mean_squared_error(y_val, pred_val)\n",
    "rmse = mse ** 0.5\n",
    "# print(rmse) # 757.0037513840999\n",
    "\n",
    "pred = rfr.predict(x_test)\n",
    "# print(pred) # [1115.72 4042.18 2833.01 ... 1638.45  348.51    7.25]\n",
    "\n",
    "pred_df = pd.DataFrame(pred, columns=['pred'])\n",
    "print(pred_df)\n",
    "\n",
    "# [1033.25 4121.11 3005.06 ... 1702.08  353.47    6.33]\n",
    "#          pred\n",
    "# 0     1033.25\n",
    "# 1     4121.11\n",
    "# 2     3005.06\n",
    "# 3      136.81\n",
    "# 4       23.06\n",
    "# ...       ...\n",
    "# 2477   679.97\n",
    "# 2478     5.14\n",
    "# 2479  1702.08\n",
    "# 2480   353.47\n",
    "# 2481     6.33\n",
    "# [2482 rows x 1 columns]\n",
    "\n",
    "pred_df.to_csv('result.csv', index=False)\n",
    "\n",
    "result = pd.read_csv('result.csv')\n",
    "print(result)\n",
    "\n"
   ]
  },
  {
   "cell_type": "code",
   "execution_count": null,
   "id": "b8929d0e",
   "metadata": {},
   "outputs": [],
   "source": []
  },
  {
   "cell_type": "code",
   "execution_count": null,
   "id": "b4c9a1ca",
   "metadata": {},
   "outputs": [],
   "source": []
  },
  {
   "cell_type": "code",
   "execution_count": null,
   "id": "78c0cd02",
   "metadata": {},
   "outputs": [],
   "source": []
  },
  {
   "cell_type": "code",
   "execution_count": null,
   "id": "730a1c43",
   "metadata": {},
   "outputs": [],
   "source": []
  },
  {
   "cell_type": "code",
   "execution_count": null,
   "id": "91c98312",
   "metadata": {},
   "outputs": [],
   "source": []
  },
  {
   "cell_type": "code",
   "execution_count": null,
   "id": "621e9a6c",
   "metadata": {},
   "outputs": [],
   "source": []
  },
  {
   "cell_type": "markdown",
   "id": "cf4dbe87",
   "metadata": {},
   "source": [
    "# 3"
   ]
  },
  {
   "cell_type": "code",
   "execution_count": null,
   "id": "6327179f",
   "metadata": {},
   "outputs": [],
   "source": [
    "# 출력을 원할 경우 print() 함수 활용\n",
    "# 예시) print(df.head())\n",
    "\n",
    "# getcwd(), chdir() 등 작업 폴더 설정 불필요\n",
    "# 파일 경로 상 내부 드라이브 경로(C: 등) 접근 불가\n",
    "\n",
    "import pandas as pd\n",
    "import numpy as np\n",
    "from scipy import stats\n",
    "\n",
    "df = pd.read_csv(\"data/bcc.csv\")\n",
    "\n",
    "# 사용자 코딩\n",
    "\n",
    "# 해당 화면에서는 제출하지 않으며, 문제 풀이 후 답안제출에서 결괏값 제출\n",
    "\n",
    "# print(df.info(), '\\n')\n",
    "# print(df.isnull().sum(), '\\n')\n",
    "# print(df.nunique(), '\\n')\n",
    "# print(df['Classification'].value_counts(), '\\n')\n",
    "# print(df.head(1), '\\n')\n",
    "\n",
    "# <class 'pandas.core.frame.DataFrame'>\n",
    "# RangeIndex: 116 entries, 0 to 115\n",
    "# Data columns (total 2 columns):\n",
    "#  #   Column          Non-Null Count  Dtype  \n",
    "# ---  ------          --------------  -----  \n",
    "#  0   Resistin        116 non-null    float64\n",
    "#  1   Classification  116 non-null    int64  \n",
    "# dtypes: float64(1), int64(1)\n",
    "# memory usage: 1.9 KB\n",
    "# None \n",
    "\n",
    "# Resistin          0\n",
    "# Classification    0\n",
    "# dtype: int64 \n",
    "\n",
    "# Resistin          116\n",
    "# Classification      2\n",
    "# dtype: int64 \n",
    "\n",
    "# Classification\n",
    "# 2    64\n",
    "# 1    52\n",
    "# Name: count, dtype: int64 \n",
    "\n",
    "#    Resistin  Classification\n",
    "# 0   7.99585               1 \n",
    "\n",
    "# =========\n",
    "\n",
    "# 로그 리지스틴 변수 추가\n",
    "df['log_resistin'] = np.log(df['Resistin'])\n",
    "\n",
    "# 집단 분리: 1 = 정상인, 2 = 암 환자\n",
    "group1 = df[df['Classification'] == 1]['log_resistin']  # 정상인\n",
    "group2 = df[df['Classification'] == 2]['log_resistin']  # 암 환자\n",
    "\n",
    "# F-검정: 분산 비교 (분자의 자유도 > 분모의 자유도가 되도록)\n",
    "var1 = np.var(group1, ddof=1)\n",
    "var2 = np.var(group2, ddof=1)\n",
    "\n",
    "# 큰 쪽을 분자로\n",
    "f_stat = max(var1, var2) / min(var1, var2)\n",
    "f_stat = np.round(f_stat, 3)\n",
    "print('F-검정 통계량:', f_stat) # 1.348\n",
    "\n",
    "n1 = len(group1)\n",
    "n2 = len(group2)\n",
    "\n",
    "p_var = ((n1-1)*var1 + (n2-1)*var2) / (n1+n2-2)\n",
    "print(f'합동분산 : {round(p_var, 3)}') # 0.449\n",
    "\n",
    "result = stats.ttest_ind(group1, group2, equal_var=True)\n",
    "print(f't검정 p값 : {np.round(result[1], 3)}') # 0.003 -> 유의하지 않음 -> 대립가설 채택\n",
    "\n",
    "\n",
    "\n",
    "# ===\n",
    "# 직접 구할 때\n",
    "# t_stat = (mean1 - mean2) / np.sqrt(p_v*(1/n2+1/n2))\n",
    "# dof = n1+n2-2\n",
    "# p = 2* (1- t.cdf(abs(t_stat), df= dof))\n",
    "\n",
    "print(scipy)\n",
    "\n"
   ]
  },
  {
   "cell_type": "code",
   "execution_count": null,
   "id": "d1649912",
   "metadata": {},
   "outputs": [],
   "source": []
  },
  {
   "cell_type": "code",
   "execution_count": null,
   "id": "5ed9466b",
   "metadata": {},
   "outputs": [],
   "source": []
  },
  {
   "cell_type": "code",
   "execution_count": null,
   "id": "fcb293e3",
   "metadata": {},
   "outputs": [],
   "source": []
  },
  {
   "cell_type": "code",
   "execution_count": null,
   "id": "0b18b1da",
   "metadata": {},
   "outputs": [],
   "source": []
  },
  {
   "cell_type": "markdown",
   "id": "d083356e",
   "metadata": {},
   "source": [
    "### "
   ]
  },
  {
   "cell_type": "code",
   "execution_count": null,
   "id": "c280b618",
   "metadata": {},
   "outputs": [],
   "source": []
  },
  {
   "cell_type": "code",
   "execution_count": null,
   "id": "3f76ad1e",
   "metadata": {},
   "outputs": [],
   "source": []
  },
  {
   "cell_type": "code",
   "execution_count": null,
   "id": "428a9482",
   "metadata": {},
   "outputs": [],
   "source": []
  },
  {
   "cell_type": "code",
   "execution_count": null,
   "id": "43d17d62",
   "metadata": {},
   "outputs": [],
   "source": []
  },
  {
   "cell_type": "code",
   "execution_count": null,
   "id": "8fac3b52",
   "metadata": {},
   "outputs": [],
   "source": []
  },
  {
   "cell_type": "code",
   "execution_count": null,
   "id": "af236f08",
   "metadata": {},
   "outputs": [],
   "source": []
  },
  {
   "cell_type": "markdown",
   "id": "94d321c5",
   "metadata": {},
   "source": []
  },
  {
   "cell_type": "code",
   "execution_count": null,
   "id": "0f9d9124",
   "metadata": {},
   "outputs": [],
   "source": []
  },
  {
   "cell_type": "markdown",
   "id": "a36ea10f",
   "metadata": {},
   "source": [
    "### "
   ]
  },
  {
   "cell_type": "code",
   "execution_count": null,
   "id": "72987257",
   "metadata": {},
   "outputs": [],
   "source": []
  },
  {
   "cell_type": "code",
   "execution_count": null,
   "id": "cb57a82c",
   "metadata": {},
   "outputs": [],
   "source": []
  },
  {
   "cell_type": "code",
   "execution_count": null,
   "id": "c308d5c6",
   "metadata": {},
   "outputs": [],
   "source": []
  },
  {
   "cell_type": "code",
   "execution_count": null,
   "id": "9e581bf4",
   "metadata": {},
   "outputs": [],
   "source": []
  },
  {
   "cell_type": "code",
   "execution_count": null,
   "id": "a2f65e4d",
   "metadata": {},
   "outputs": [],
   "source": []
  },
  {
   "cell_type": "code",
   "execution_count": 6,
   "id": "8375cae5",
   "metadata": {
    "scrolled": true
   },
   "outputs": [],
   "source": []
  },
  {
   "cell_type": "code",
   "execution_count": null,
   "id": "193a38c2",
   "metadata": {},
   "outputs": [],
   "source": []
  },
  {
   "cell_type": "code",
   "execution_count": null,
   "id": "4f94137b",
   "metadata": {},
   "outputs": [],
   "source": []
  },
  {
   "cell_type": "markdown",
   "id": "23f28db9",
   "metadata": {},
   "source": [
    "### "
   ]
  },
  {
   "cell_type": "code",
   "execution_count": null,
   "id": "c19b782d",
   "metadata": {},
   "outputs": [],
   "source": []
  },
  {
   "cell_type": "code",
   "execution_count": null,
   "id": "18dbc20e",
   "metadata": {},
   "outputs": [],
   "source": []
  },
  {
   "cell_type": "code",
   "execution_count": null,
   "id": "bc83f98a",
   "metadata": {},
   "outputs": [],
   "source": []
  },
  {
   "cell_type": "code",
   "execution_count": null,
   "id": "d96a288a",
   "metadata": {},
   "outputs": [],
   "source": []
  },
  {
   "cell_type": "code",
   "execution_count": null,
   "id": "0ed77a59",
   "metadata": {},
   "outputs": [],
   "source": []
  }
 ],
 "metadata": {
  "kernelspec": {
   "display_name": "gigabitamin",
   "language": "python",
   "name": "gigabitamin"
  },
  "language_info": {
   "codemirror_mode": {
    "name": "ipython",
    "version": 3
   },
   "file_extension": ".py",
   "mimetype": "text/x-python",
   "name": "python",
   "nbconvert_exporter": "python",
   "pygments_lexer": "ipython3",
   "version": "3.11.5"
  }
 },
 "nbformat": 4,
 "nbformat_minor": 5
}
