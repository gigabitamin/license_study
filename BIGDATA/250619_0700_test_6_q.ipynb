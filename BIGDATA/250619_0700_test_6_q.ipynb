{
 "cells": [
  {
   "cell_type": "markdown",
   "id": "58a3a6fa",
   "metadata": {},
   "source": [
    "# 빅분기 기출 변형 #7"
   ]
  },
  {
   "cell_type": "code",
   "execution_count": 1,
   "id": "fedb12b4",
   "metadata": {},
   "outputs": [],
   "source": [
    "# 여러줄 출력 가능\n",
    "from IPython.core.interactiveshell import InteractiveShell\n",
    "InteractiveShell.ast_node_interactivity = \"all\""
   ]
  },
  {
   "cell_type": "code",
   "execution_count": null,
   "id": "ebf1358f",
   "metadata": {},
   "outputs": [],
   "source": []
  },
  {
   "cell_type": "markdown",
   "id": "253a76fa",
   "metadata": {},
   "source": [
    "# 1 유형"
   ]
  },
  {
   "cell_type": "markdown",
   "id": "80346f54",
   "metadata": {},
   "source": [
    "DataUrl = https://raw.githubusercontent.com/Datamanim/datarepo/main/krdatacertificate/e6_p1_1.csv   \n",
    "데이터 출처 : https://bigdata-119.kr/  \n",
    "데이터 설명 : 소방신고별 신고시각과 출동시각  \n",
    "데이터 컬럼 설명 : 신고일자 (yyyymmdd) / 신고시각 (HHMMSS , 00시 , 00분의 경우 등 생략)  "
   ]
  },
  {
   "cell_type": "markdown",
   "id": "7f25b6f0",
   "metadata": {},
   "source": [
    "### 1-1) 각 구급 보고서 별 출동시각과 신고시각의 차이를 ‘소요시간’ 컬럼을 만들고 초(sec)단위로 구하고 소방서명 별 소요시간의 평균을 오름차순으로 정렬 했을때 3번째로 작은 소요시간의 값과 소방서명을 출력하라"
   ]
  },
  {
   "cell_type": "code",
   "execution_count": 2,
   "id": "10d6a948",
   "metadata": {},
   "outputs": [
    {
     "data": {
      "text/html": [
       "<div>\n",
       "<style scoped>\n",
       "    .dataframe tbody tr th:only-of-type {\n",
       "        vertical-align: middle;\n",
       "    }\n",
       "\n",
       "    .dataframe tbody tr th {\n",
       "        vertical-align: top;\n",
       "    }\n",
       "\n",
       "    .dataframe thead th {\n",
       "        text-align: right;\n",
       "    }\n",
       "</style>\n",
       "<table border=\"1\" class=\"dataframe\">\n",
       "  <thead>\n",
       "    <tr style=\"text-align: right;\">\n",
       "      <th></th>\n",
       "      <th>구급보고서번호</th>\n",
       "      <th>소방서명</th>\n",
       "      <th>환자증상구분명1</th>\n",
       "      <th>신고일자</th>\n",
       "      <th>신고시각</th>\n",
       "      <th>출동일자</th>\n",
       "      <th>출동시각</th>\n",
       "      <th>환자직업명</th>\n",
       "      <th>사고발생장소</th>\n",
       "    </tr>\n",
       "  </thead>\n",
       "  <tbody>\n",
       "    <tr>\n",
       "      <th>0</th>\n",
       "      <td>20211122103M01526</td>\n",
       "      <td>중랑소방서</td>\n",
       "      <td>심계항진</td>\n",
       "      <td>20210330</td>\n",
       "      <td>104800</td>\n",
       "      <td>20210330</td>\n",
       "      <td>105042</td>\n",
       "      <td>무직</td>\n",
       "      <td>집</td>\n",
       "    </tr>\n",
       "    <tr>\n",
       "      <th>1</th>\n",
       "      <td>20211111105M00771</td>\n",
       "      <td>노원소방서</td>\n",
       "      <td>복통</td>\n",
       "      <td>20210412</td>\n",
       "      <td>225600</td>\n",
       "      <td>20210412</td>\n",
       "      <td>225827</td>\n",
       "      <td>기타</td>\n",
       "      <td>집</td>\n",
       "    </tr>\n",
       "    <tr>\n",
       "      <th>2</th>\n",
       "      <td>20211115104M00864</td>\n",
       "      <td>서초소방서</td>\n",
       "      <td>심계항진</td>\n",
       "      <td>20210303</td>\n",
       "      <td>194100</td>\n",
       "      <td>20210303</td>\n",
       "      <td>194500</td>\n",
       "      <td>직장인</td>\n",
       "      <td>상업시설</td>\n",
       "    </tr>\n",
       "    <tr>\n",
       "      <th>3</th>\n",
       "      <td>20211113107M01869</td>\n",
       "      <td>마포소방서</td>\n",
       "      <td>고열</td>\n",
       "      <td>20211225</td>\n",
       "      <td>235400</td>\n",
       "      <td>20211226</td>\n",
       "      <td>331</td>\n",
       "      <td>유아</td>\n",
       "      <td>집</td>\n",
       "    </tr>\n",
       "    <tr>\n",
       "      <th>4</th>\n",
       "      <td>20211118102M05820</td>\n",
       "      <td>강동소방서</td>\n",
       "      <td>고열</td>\n",
       "      <td>20211019</td>\n",
       "      <td>12100</td>\n",
       "      <td>20211019</td>\n",
       "      <td>12322</td>\n",
       "      <td>무직</td>\n",
       "      <td>집</td>\n",
       "    </tr>\n",
       "  </tbody>\n",
       "</table>\n",
       "</div>"
      ],
      "text/plain": [
       "             구급보고서번호   소방서명 환자증상구분명1      신고일자    신고시각      출동일자    출동시각  \\\n",
       "0  20211122103M01526  중랑소방서     심계항진  20210330  104800  20210330  105042   \n",
       "1  20211111105M00771  노원소방서       복통  20210412  225600  20210412  225827   \n",
       "2  20211115104M00864  서초소방서     심계항진  20210303  194100  20210303  194500   \n",
       "3  20211113107M01869  마포소방서       고열  20211225  235400  20211226     331   \n",
       "4  20211118102M05820  강동소방서       고열  20211019   12100  20211019   12322   \n",
       "\n",
       "  환자직업명 사고발생장소  \n",
       "0    무직      집  \n",
       "1    기타      집  \n",
       "2   직장인   상업시설  \n",
       "3    유아      집  \n",
       "4    무직      집  "
      ]
     },
     "execution_count": 2,
     "metadata": {},
     "output_type": "execute_result"
    }
   ],
   "source": [
    "import pandas as pd\n",
    "df = pd.read_csv('https://raw.githubusercontent.com/Datamanim/datarepo/main/krdatacertificate/e6_p1_1.csv')\n",
    "df.head(5)"
   ]
  },
  {
   "cell_type": "code",
   "execution_count": null,
   "id": "d40c1336",
   "metadata": {},
   "outputs": [],
   "source": []
  },
  {
   "cell_type": "code",
   "execution_count": null,
   "id": "7ab175d7",
   "metadata": {},
   "outputs": [],
   "source": []
  },
  {
   "cell_type": "code",
   "execution_count": null,
   "id": "e836ed12",
   "metadata": {},
   "outputs": [],
   "source": []
  },
  {
   "cell_type": "code",
   "execution_count": null,
   "id": "37a08adb",
   "metadata": {},
   "outputs": [],
   "source": []
  },
  {
   "cell_type": "code",
   "execution_count": null,
   "id": "b96b1729",
   "metadata": {},
   "outputs": [],
   "source": [
    "df['소요시각'] = (\n",
    "                pd.to_datetime(\n",
    "                    df['출동일자'].astype('str') + df['출동시각'].astype('str').str.zfill(6)\n",
    "                )\n",
    "\n",
    "                - \n",
    "    \n",
    "                pd.to_datetime(\n",
    "                    df['신고일자'].astype('str') + df['신고시각'].astype('str').str.zfill(6)\n",
    "                )\n",
    "                ).dt.total_seconds()\n",
    "\n",
    "\n",
    "result = df.groupby(['소방서명'])['소요시각'].mean().sort_values().reset_index().iloc[2].values\n",
    "print(result)"
   ]
  },
  {
   "cell_type": "markdown",
   "id": "70b304de",
   "metadata": {},
   "source": [
    "DataUrl = https://raw.githubusercontent.com/Datamanim/datarepo/main/krdatacertificate/e6_p1_2.csv   \n",
    "데이터 출처 :https://kess.kedi.re.kr/contents/dataset  \n",
    "국내 학교 및 학급 인원 수  "
   ]
  },
  {
   "cell_type": "markdown",
   "id": "1b82ce0e",
   "metadata": {},
   "source": [
    "### 1-2) 학교 세부유형이 일반중학교인 학교들 중 일반중학교 숫자가 2번째로 많은 시도의 일반중학교 데이터만 필터하여 해당 시도의 교원 한명 당 맡은 학생수가 가장 많은 학교를 찾아서 해당 학교의 교원수를 출력하라"
   ]
  },
  {
   "cell_type": "code",
   "execution_count": 3,
   "id": "3897508c",
   "metadata": {},
   "outputs": [
    {
     "data": {
      "text/html": [
       "<div>\n",
       "<style scoped>\n",
       "    .dataframe tbody tr th:only-of-type {\n",
       "        vertical-align: middle;\n",
       "    }\n",
       "\n",
       "    .dataframe tbody tr th {\n",
       "        vertical-align: top;\n",
       "    }\n",
       "\n",
       "    .dataframe thead th {\n",
       "        text-align: right;\n",
       "    }\n",
       "</style>\n",
       "<table border=\"1\" class=\"dataframe\">\n",
       "  <thead>\n",
       "    <tr style=\"text-align: right;\">\n",
       "      <th></th>\n",
       "      <th>학교명</th>\n",
       "      <th>시도</th>\n",
       "      <th>학교세부유형</th>\n",
       "      <th>일반학급_학생수_계</th>\n",
       "      <th>교원수_총계_계</th>\n",
       "    </tr>\n",
       "  </thead>\n",
       "  <tbody>\n",
       "    <tr>\n",
       "      <th>0</th>\n",
       "      <td>서울대학교사범대학부설고등학교</td>\n",
       "      <td>서울</td>\n",
       "      <td>일반고등학교</td>\n",
       "      <td>689</td>\n",
       "      <td>73</td>\n",
       "    </tr>\n",
       "    <tr>\n",
       "      <th>1</th>\n",
       "      <td>가락고등학교</td>\n",
       "      <td>서울</td>\n",
       "      <td>일반고등학교</td>\n",
       "      <td>765</td>\n",
       "      <td>70</td>\n",
       "    </tr>\n",
       "    <tr>\n",
       "      <th>2</th>\n",
       "      <td>개포고등학교</td>\n",
       "      <td>서울</td>\n",
       "      <td>일반고등학교</td>\n",
       "      <td>684</td>\n",
       "      <td>69</td>\n",
       "    </tr>\n",
       "    <tr>\n",
       "      <th>3</th>\n",
       "      <td>경기고등학교</td>\n",
       "      <td>서울</td>\n",
       "      <td>일반고등학교</td>\n",
       "      <td>1047</td>\n",
       "      <td>96</td>\n",
       "    </tr>\n",
       "    <tr>\n",
       "      <th>4</th>\n",
       "      <td>경동고등학교</td>\n",
       "      <td>서울</td>\n",
       "      <td>일반고등학교</td>\n",
       "      <td>529</td>\n",
       "      <td>58</td>\n",
       "    </tr>\n",
       "  </tbody>\n",
       "</table>\n",
       "</div>"
      ],
      "text/plain": [
       "               학교명  시도  학교세부유형  일반학급_학생수_계  교원수_총계_계\n",
       "0  서울대학교사범대학부설고등학교  서울  일반고등학교         689        73\n",
       "1           가락고등학교  서울  일반고등학교         765        70\n",
       "2           개포고등학교  서울  일반고등학교         684        69\n",
       "3           경기고등학교  서울  일반고등학교        1047        96\n",
       "4           경동고등학교  서울  일반고등학교         529        58"
      ]
     },
     "execution_count": 3,
     "metadata": {},
     "output_type": "execute_result"
    }
   ],
   "source": [
    "import pandas as pd\n",
    "df = pd.read_csv('https://raw.githubusercontent.com/Datamanim/datarepo/main/krdatacertificate/e6_p1_2.csv')\n",
    "df.head(5)"
   ]
  },
  {
   "cell_type": "code",
   "execution_count": null,
   "id": "35b7fcd7",
   "metadata": {},
   "outputs": [],
   "source": []
  },
  {
   "cell_type": "code",
   "execution_count": null,
   "id": "9eb412b1",
   "metadata": {},
   "outputs": [],
   "source": []
  },
  {
   "cell_type": "code",
   "execution_count": null,
   "id": "c6ab35f2",
   "metadata": {},
   "outputs": [],
   "source": []
  },
  {
   "cell_type": "code",
   "execution_count": null,
   "id": "db05d19e",
   "metadata": {},
   "outputs": [],
   "source": []
  },
  {
   "cell_type": "code",
   "execution_count": null,
   "id": "613b1ea2",
   "metadata": {},
   "outputs": [],
   "source": []
  },
  {
   "cell_type": "code",
   "execution_count": null,
   "id": "d59b63c0",
   "metadata": {},
   "outputs": [],
   "source": [
    "city = df[df['학교세부유형'] =='일반중학교'].시도.value_counts().index[1]\n",
    "filter_df = df[(df['학교세부유형'] =='일반중학교') & (df['시도'] ==city)].reset_index(drop=True)\n",
    "filter_df.loc[:,'ratio'] = (filter_df['일반학급_학생수_계'] / filter_df['교원수_총계_계']).values\n",
    "filter_df = filter_df.sort_values('ratio').dropna()\n",
    "result= filter_df['교원수_총계_계'].values[-1]\n",
    "print(result)"
   ]
  },
  {
   "cell_type": "markdown",
   "id": "89cd9577",
   "metadata": {},
   "source": [
    "DataUrl = https://raw.githubusercontent.com/Datamanim/datarepo/main/krdatacertificate/e6_p1_3.csv   \n",
    "5대범죄 발생현황 : https://www.data.go.kr/data/15085721/fileData.do#layer_data_infomation  \n",
    "& 후처리"
   ]
  },
  {
   "cell_type": "markdown",
   "id": "9553e713",
   "metadata": {},
   "source": [
    "### 1-3) 5대 범죄(절도, 사기, 배임, 방화, 폭행)의 월별 총 발생건수를 총범죄수라고 표현하자. 18,19년의 각각 분기별 총범죄수의 월평균 값을 구했을때 최대값을 가지는 년도와 분기를 구하고 해당 분기의 최댓값의 사기가 발생한 월의 사기 발생건수를 출력하라(1분기:1,2,3월 / 2분기 : 4,5,6월 / 3분기 7,8,9월 / 4분기 10,11,12월 , 1분기 월평균 : 1,2,3월의 총범죄수 평균) "
   ]
  },
  {
   "cell_type": "code",
   "execution_count": 4,
   "id": "3af3333c",
   "metadata": {},
   "outputs": [
    {
     "data": {
      "text/html": [
       "<div>\n",
       "<style scoped>\n",
       "    .dataframe tbody tr th:only-of-type {\n",
       "        vertical-align: middle;\n",
       "    }\n",
       "\n",
       "    .dataframe tbody tr th {\n",
       "        vertical-align: top;\n",
       "    }\n",
       "\n",
       "    .dataframe thead th {\n",
       "        text-align: right;\n",
       "    }\n",
       "</style>\n",
       "<table border=\"1\" class=\"dataframe\">\n",
       "  <thead>\n",
       "    <tr style=\"text-align: right;\">\n",
       "      <th></th>\n",
       "      <th>범죄분류</th>\n",
       "      <th>절도</th>\n",
       "      <th>사기</th>\n",
       "      <th>배임</th>\n",
       "      <th>방화</th>\n",
       "      <th>폭행</th>\n",
       "    </tr>\n",
       "  </thead>\n",
       "  <tbody>\n",
       "    <tr>\n",
       "      <th>0</th>\n",
       "      <td>2018년_1월</td>\n",
       "      <td>13280</td>\n",
       "      <td>25318</td>\n",
       "      <td>656</td>\n",
       "      <td>143</td>\n",
       "      <td>12186</td>\n",
       "    </tr>\n",
       "    <tr>\n",
       "      <th>1</th>\n",
       "      <td>2018년_2월</td>\n",
       "      <td>12504</td>\n",
       "      <td>19159</td>\n",
       "      <td>403</td>\n",
       "      <td>135</td>\n",
       "      <td>12087</td>\n",
       "    </tr>\n",
       "    <tr>\n",
       "      <th>2</th>\n",
       "      <td>2018년_3월</td>\n",
       "      <td>14733</td>\n",
       "      <td>24509</td>\n",
       "      <td>471</td>\n",
       "      <td>148</td>\n",
       "      <td>13841</td>\n",
       "    </tr>\n",
       "    <tr>\n",
       "      <th>3</th>\n",
       "      <td>2018년_4월</td>\n",
       "      <td>14781</td>\n",
       "      <td>23147</td>\n",
       "      <td>414</td>\n",
       "      <td>135</td>\n",
       "      <td>13973</td>\n",
       "    </tr>\n",
       "    <tr>\n",
       "      <th>4</th>\n",
       "      <td>2018년_5월</td>\n",
       "      <td>15988</td>\n",
       "      <td>23584</td>\n",
       "      <td>451</td>\n",
       "      <td>127</td>\n",
       "      <td>14117</td>\n",
       "    </tr>\n",
       "  </tbody>\n",
       "</table>\n",
       "</div>"
      ],
      "text/plain": [
       "       범죄분류     절도     사기   배임   방화     폭행\n",
       "0  2018년_1월  13280  25318  656  143  12186\n",
       "1  2018년_2월  12504  19159  403  135  12087\n",
       "2  2018년_3월  14733  24509  471  148  13841\n",
       "3  2018년_4월  14781  23147  414  135  13973\n",
       "4  2018년_5월  15988  23584  451  127  14117"
      ]
     },
     "execution_count": 4,
     "metadata": {},
     "output_type": "execute_result"
    }
   ],
   "source": [
    "import pandas as pd\n",
    "df = pd.read_csv('https://raw.githubusercontent.com/Datamanim/datarepo/main/krdatacertificate/e6_p1_3.csv')\n",
    "df.head(5)"
   ]
  },
  {
   "cell_type": "code",
   "execution_count": null,
   "id": "0b465ab1",
   "metadata": {},
   "outputs": [],
   "source": []
  },
  {
   "cell_type": "code",
   "execution_count": null,
   "id": "33a278ef",
   "metadata": {},
   "outputs": [],
   "source": []
  },
  {
   "cell_type": "code",
   "execution_count": null,
   "id": "3b8ebafa",
   "metadata": {},
   "outputs": [],
   "source": []
  },
  {
   "cell_type": "code",
   "execution_count": null,
   "id": "3b67c79f",
   "metadata": {},
   "outputs": [],
   "source": []
  },
  {
   "cell_type": "code",
   "execution_count": null,
   "id": "f2add54b",
   "metadata": {},
   "outputs": [],
   "source": []
  },
  {
   "cell_type": "code",
   "execution_count": null,
   "id": "d209394c",
   "metadata": {},
   "outputs": [],
   "source": []
  },
  {
   "cell_type": "code",
   "execution_count": null,
   "id": "533db588",
   "metadata": {},
   "outputs": [],
   "source": [
    "df['총범죄수'] = df['절도']  +df['사기']  +df['배임']  +df['방화']  +df['폭행']\n",
    "df['분기'] = [x+'_'+str(y) for x in ['2018','2019'] for y in range(1,5) for z in range(3)]\n",
    "\n",
    "max_ = df.groupby(['분기'])['총범죄수'].mean().sort_values().index[-1] # '2019_02'\n",
    "result = df[df.분기 ==max_].사기.max()\n",
    "print(result)"
   ]
  },
  {
   "cell_type": "markdown",
   "id": "01e3e65b",
   "metadata": {},
   "source": [
    "# 2 유형"
   ]
  },
  {
   "cell_type": "markdown",
   "id": "844b019a",
   "metadata": {},
   "source": [
    "건강 상태 분류문제 : https://www.kaggle.com/datasets/alphiree/cardiovascular-diseases-risk-prediction-dataset  \n",
    "train = https://raw.githubusercontent.com/Datamanim/datarepo/main/krdatacertificate/ep6_p2_train.csv   \n",
    "test = https://raw.githubusercontent.com/Datamanim/datarepo/main/krdatacertificate/ep6_p2_test.csv  \n",
    "\n",
    "평가지표는 f1score  \n",
    "  \n",
    "예측 변수 General_Health, test.csv에 대해 ID별로 General_Health 값을 예측하여 제출,   \n",
    "제출 데이터 컬럼은 ID와 General_Health 두개만 존재해야함.   "
   ]
  },
  {
   "cell_type": "code",
   "execution_count": 5,
   "id": "5d0df4fa",
   "metadata": {},
   "outputs": [
    {
     "data": {
      "text/html": [
       "<div>\n",
       "<style scoped>\n",
       "    .dataframe tbody tr th:only-of-type {\n",
       "        vertical-align: middle;\n",
       "    }\n",
       "\n",
       "    .dataframe tbody tr th {\n",
       "        vertical-align: top;\n",
       "    }\n",
       "\n",
       "    .dataframe thead th {\n",
       "        text-align: right;\n",
       "    }\n",
       "</style>\n",
       "<table border=\"1\" class=\"dataframe\">\n",
       "  <thead>\n",
       "    <tr style=\"text-align: right;\">\n",
       "      <th></th>\n",
       "      <th>ID</th>\n",
       "      <th>General_Health</th>\n",
       "      <th>Checkup</th>\n",
       "      <th>Exercise</th>\n",
       "      <th>Heart_Disease</th>\n",
       "      <th>Skin_Cancer</th>\n",
       "      <th>Other_Cancer</th>\n",
       "      <th>Depression</th>\n",
       "      <th>Diabetes</th>\n",
       "      <th>Arthritis</th>\n",
       "      <th>Sex</th>\n",
       "      <th>Age_Category</th>\n",
       "      <th>Height_(cm)</th>\n",
       "      <th>Weight_(kg)</th>\n",
       "      <th>BMI</th>\n",
       "      <th>Smoking_History</th>\n",
       "      <th>Alcohol_Consumption</th>\n",
       "      <th>Fruit_Consumption</th>\n",
       "      <th>Green_Vegetables_Consumption</th>\n",
       "      <th>FriedPotato_Consumption</th>\n",
       "    </tr>\n",
       "  </thead>\n",
       "  <tbody>\n",
       "    <tr>\n",
       "      <th>0</th>\n",
       "      <td>ID_1473</td>\n",
       "      <td>Good</td>\n",
       "      <td>Within the past 2 years</td>\n",
       "      <td>Yes</td>\n",
       "      <td>No</td>\n",
       "      <td>No</td>\n",
       "      <td>No</td>\n",
       "      <td>No</td>\n",
       "      <td>No</td>\n",
       "      <td>Yes</td>\n",
       "      <td>Female</td>\n",
       "      <td>55-59</td>\n",
       "      <td>168.0</td>\n",
       "      <td>77.11</td>\n",
       "      <td>27.44</td>\n",
       "      <td>No</td>\n",
       "      <td>1.0</td>\n",
       "      <td>12.0</td>\n",
       "      <td>4.0</td>\n",
       "      <td>4.0</td>\n",
       "    </tr>\n",
       "    <tr>\n",
       "      <th>1</th>\n",
       "      <td>ID_2045</td>\n",
       "      <td>Good</td>\n",
       "      <td>Within the past 2 years</td>\n",
       "      <td>Yes</td>\n",
       "      <td>No</td>\n",
       "      <td>No</td>\n",
       "      <td>No</td>\n",
       "      <td>No</td>\n",
       "      <td>No</td>\n",
       "      <td>No</td>\n",
       "      <td>Female</td>\n",
       "      <td>40-44</td>\n",
       "      <td>152.0</td>\n",
       "      <td>58.97</td>\n",
       "      <td>25.39</td>\n",
       "      <td>No</td>\n",
       "      <td>0.0</td>\n",
       "      <td>8.0</td>\n",
       "      <td>16.0</td>\n",
       "      <td>8.0</td>\n",
       "    </tr>\n",
       "  </tbody>\n",
       "</table>\n",
       "</div>"
      ],
      "text/plain": [
       "        ID General_Health                  Checkup Exercise Heart_Disease  \\\n",
       "0  ID_1473           Good  Within the past 2 years      Yes            No   \n",
       "1  ID_2045           Good  Within the past 2 years      Yes            No   \n",
       "\n",
       "  Skin_Cancer Other_Cancer Depression Diabetes Arthritis     Sex Age_Category  \\\n",
       "0          No           No         No       No       Yes  Female        55-59   \n",
       "1          No           No         No       No        No  Female        40-44   \n",
       "\n",
       "   Height_(cm)  Weight_(kg)    BMI Smoking_History  Alcohol_Consumption  \\\n",
       "0        168.0        77.11  27.44              No                  1.0   \n",
       "1        152.0        58.97  25.39              No                  0.0   \n",
       "\n",
       "   Fruit_Consumption  Green_Vegetables_Consumption  FriedPotato_Consumption  \n",
       "0               12.0                           4.0                      4.0  \n",
       "1                8.0                          16.0                      8.0  "
      ]
     },
     "metadata": {},
     "output_type": "display_data"
    },
    {
     "data": {
      "text/html": [
       "<div>\n",
       "<style scoped>\n",
       "    .dataframe tbody tr th:only-of-type {\n",
       "        vertical-align: middle;\n",
       "    }\n",
       "\n",
       "    .dataframe tbody tr th {\n",
       "        vertical-align: top;\n",
       "    }\n",
       "\n",
       "    .dataframe thead th {\n",
       "        text-align: right;\n",
       "    }\n",
       "</style>\n",
       "<table border=\"1\" class=\"dataframe\">\n",
       "  <thead>\n",
       "    <tr style=\"text-align: right;\">\n",
       "      <th></th>\n",
       "      <th>ID</th>\n",
       "      <th>Checkup</th>\n",
       "      <th>Exercise</th>\n",
       "      <th>Heart_Disease</th>\n",
       "      <th>Skin_Cancer</th>\n",
       "      <th>Other_Cancer</th>\n",
       "      <th>Depression</th>\n",
       "      <th>Diabetes</th>\n",
       "      <th>Arthritis</th>\n",
       "      <th>Sex</th>\n",
       "      <th>Age_Category</th>\n",
       "      <th>Height_(cm)</th>\n",
       "      <th>Weight_(kg)</th>\n",
       "      <th>BMI</th>\n",
       "      <th>Smoking_History</th>\n",
       "      <th>Alcohol_Consumption</th>\n",
       "      <th>Fruit_Consumption</th>\n",
       "      <th>Green_Vegetables_Consumption</th>\n",
       "      <th>FriedPotato_Consumption</th>\n",
       "    </tr>\n",
       "  </thead>\n",
       "  <tbody>\n",
       "    <tr>\n",
       "      <th>0</th>\n",
       "      <td>ID_14547</td>\n",
       "      <td>Within the past year</td>\n",
       "      <td>Yes</td>\n",
       "      <td>No</td>\n",
       "      <td>No</td>\n",
       "      <td>No</td>\n",
       "      <td>No</td>\n",
       "      <td>No</td>\n",
       "      <td>No</td>\n",
       "      <td>Male</td>\n",
       "      <td>35-39</td>\n",
       "      <td>180.0</td>\n",
       "      <td>81.65</td>\n",
       "      <td>25.10</td>\n",
       "      <td>No</td>\n",
       "      <td>15.0</td>\n",
       "      <td>8.0</td>\n",
       "      <td>25.0</td>\n",
       "      <td>12.0</td>\n",
       "    </tr>\n",
       "    <tr>\n",
       "      <th>1</th>\n",
       "      <td>ID_26</td>\n",
       "      <td>5 or more years ago</td>\n",
       "      <td>No</td>\n",
       "      <td>No</td>\n",
       "      <td>Yes</td>\n",
       "      <td>No</td>\n",
       "      <td>No</td>\n",
       "      <td>No</td>\n",
       "      <td>No</td>\n",
       "      <td>Male</td>\n",
       "      <td>60-64</td>\n",
       "      <td>183.0</td>\n",
       "      <td>79.38</td>\n",
       "      <td>23.73</td>\n",
       "      <td>No</td>\n",
       "      <td>1.0</td>\n",
       "      <td>4.0</td>\n",
       "      <td>4.0</td>\n",
       "      <td>4.0</td>\n",
       "    </tr>\n",
       "  </tbody>\n",
       "</table>\n",
       "</div>"
      ],
      "text/plain": [
       "         ID               Checkup Exercise Heart_Disease Skin_Cancer  \\\n",
       "0  ID_14547  Within the past year      Yes            No          No   \n",
       "1     ID_26   5 or more years ago       No            No         Yes   \n",
       "\n",
       "  Other_Cancer Depression Diabetes Arthritis   Sex Age_Category  Height_(cm)  \\\n",
       "0           No         No       No        No  Male        35-39        180.0   \n",
       "1           No         No       No        No  Male        60-64        183.0   \n",
       "\n",
       "   Weight_(kg)    BMI Smoking_History  Alcohol_Consumption  Fruit_Consumption  \\\n",
       "0        81.65  25.10              No                 15.0                8.0   \n",
       "1        79.38  23.73              No                  1.0                4.0   \n",
       "\n",
       "   Green_Vegetables_Consumption  FriedPotato_Consumption  \n",
       "0                          25.0                     12.0  \n",
       "1                           4.0                      4.0  "
      ]
     },
     "execution_count": 5,
     "metadata": {},
     "output_type": "execute_result"
    }
   ],
   "source": [
    "import pandas as pd\n",
    "train = pd.read_csv('https://raw.githubusercontent.com/Datamanim/datarepo/main/krdatacertificate/ep6_p2_train.csv')\n",
    "test = pd.read_csv('https://raw.githubusercontent.com/Datamanim/datarepo/main/krdatacertificate/ep6_p2_test.csv')\n",
    "\n",
    "display(train.head(2))\n",
    "test.head(2)"
   ]
  },
  {
   "cell_type": "code",
   "execution_count": null,
   "id": "9edcfb9d",
   "metadata": {},
   "outputs": [],
   "source": []
  },
  {
   "cell_type": "code",
   "execution_count": null,
   "id": "d1cea4bb",
   "metadata": {},
   "outputs": [],
   "source": []
  },
  {
   "cell_type": "code",
   "execution_count": null,
   "id": "0a8a5aaa",
   "metadata": {},
   "outputs": [],
   "source": []
  },
  {
   "cell_type": "code",
   "execution_count": null,
   "id": "f3568ba2",
   "metadata": {},
   "outputs": [],
   "source": []
  },
  {
   "cell_type": "code",
   "execution_count": null,
   "id": "ed2ccb46",
   "metadata": {},
   "outputs": [],
   "source": []
  },
  {
   "cell_type": "code",
   "execution_count": null,
   "id": "a26b5cc7",
   "metadata": {},
   "outputs": [],
   "source": []
  },
  {
   "cell_type": "code",
   "execution_count": null,
   "id": "6090e5b9",
   "metadata": {},
   "outputs": [],
   "source": []
  },
  {
   "cell_type": "code",
   "execution_count": null,
   "id": "c003133d",
   "metadata": {},
   "outputs": [],
   "source": []
  },
  {
   "cell_type": "code",
   "execution_count": null,
   "id": "54b74d5c",
   "metadata": {},
   "outputs": [],
   "source": [
    "from sklearn.model_selection import train_test_split\n",
    "from sklearn.metrics import f1_score\n",
    "from sklearn.ensemble import RandomForestClassifier\n",
    "import numpy as np\n",
    "y = train['General_Health']\n",
    "x = train.drop(columns =['General_Health','ID'])\n",
    "test_x = test.drop(columns =['ID'])\n",
    "\n",
    "\n",
    "dum_x = pd.get_dummies(x)\n",
    "\n",
    "\n",
    "# train에는 있고, test에는 없는 데이터 존재 컬럼숫자가 다름 -> reindex해줘야함\n",
    "dum_test = pd.get_dummies(test_x)\n",
    "dum_test = dum_test.reindex(columns = dum_x.columns, fill_value=0)\n",
    "\n",
    "\n",
    "\n",
    "x_train,x_test,y_train,y_test = train_test_split(dum_x,y)\n",
    "\n",
    "\n",
    "rr = RandomForestClassifier()\n",
    "rr.fit(x_train,y_train)\n",
    "\n",
    "\n",
    "pred = rr.predict(x_test)\n",
    "print('test f1score', f1_score(y_test,pred,average='macro'))\n",
    "\n",
    "\n",
    "pred_test = rr.predict(dum_test)\n",
    "\n",
    "sumission = pd.DataFrame()\n",
    "sumission['ID'] = test['ID']\n",
    "sumission['price']  = pred_test\n",
    "sumission.head()\n",
    "# sumission.to_csv('00000000.csv',index=Fasle)"
   ]
  },
  {
   "cell_type": "markdown",
   "id": "1a221dc2",
   "metadata": {},
   "source": [
    "# 3 유형"
   ]
  },
  {
   "cell_type": "markdown",
   "id": "90c1eec9",
   "metadata": {},
   "source": [
    "### 3-1) "
   ]
  },
  {
   "cell_type": "code",
   "execution_count": null,
   "id": "df095095",
   "metadata": {},
   "outputs": [],
   "source": []
  },
  {
   "cell_type": "markdown",
   "id": "c9ea09db",
   "metadata": {},
   "source": [
    "A 도시의 남성 600명과 여성 550명이 있다. 남성들 중 흡연자 비율은 0.2이며 여성들 중 흡연자 비율은 0.26이다.  \n",
    "남성과 여성 간에 흡연 여부에 따른 인구 비율이 다른지 확인하고 싶다.  \n",
    "유의 수준 0.05하 귀무가설에 대해 기각 / 채택 여부와 p-value값을 각각 출력하라  "
   ]
  },
  {
   "cell_type": "code",
   "execution_count": null,
   "id": "1e68be55",
   "metadata": {},
   "outputs": [],
   "source": []
  },
  {
   "cell_type": "code",
   "execution_count": null,
   "id": "621e9a6c",
   "metadata": {},
   "outputs": [],
   "source": [
    "import numpy as np\n",
    "from scipy.stats import chi2_contingency\n",
    "\n",
    "# 남성과 여성의 인구 수\n",
    "total_male = 600\n",
    "total_female = 550\n",
    "\n",
    "# 남성과 여성 중 흡연자의 비율\n",
    "smoking_ratio_male = 0.2\n",
    "smoking_ratio_female = 0.26\n",
    "\n",
    "# 흡연자와 비흡연자의 인구 수 계산\n",
    "smoking_male = int(total_male * smoking_ratio_male)\n",
    "non_smoking_male = int(total_male - smoking_male)\n",
    "\n",
    "smoking_female = total_female * smoking_ratio_female\n",
    "non_smoking_female = total_female - smoking_female\n",
    "\n",
    "# 데이터 배열 생성 (빈도로 변환)\n",
    "data = np.array([[smoking_male, non_smoking_male], [smoking_female, non_smoking_female]])\n",
    "\n",
    "# 카이제곱 검정 수행\n",
    "chi2_stat, p_val, dof, expected = chi2_contingency(data)\n",
    "\n",
    "print('기각',p_val)"
   ]
  },
  {
   "cell_type": "code",
   "execution_count": null,
   "id": "5301f845",
   "metadata": {},
   "outputs": [],
   "source": []
  },
  {
   "cell_type": "markdown",
   "id": "d083356e",
   "metadata": {},
   "source": [
    "데이터 데이터 출처 : https://www.kaggle.com/datasets/hangawqadir/erbil-heart-disease-dataset  \n",
    "데이터 url : https://raw.githubusercontent.com/Datamanim/datarepo/main/adp/28/p7.csv    \n",
    "연령, 몸무게,콜레스테롤 수치 데이터  "
   ]
  },
  {
   "cell_type": "code",
   "execution_count": 8,
   "id": "7508df46",
   "metadata": {},
   "outputs": [
    {
     "data": {
      "text/html": [
       "<div>\n",
       "<style scoped>\n",
       "    .dataframe tbody tr th:only-of-type {\n",
       "        vertical-align: middle;\n",
       "    }\n",
       "\n",
       "    .dataframe tbody tr th {\n",
       "        vertical-align: top;\n",
       "    }\n",
       "\n",
       "    .dataframe thead th {\n",
       "        text-align: right;\n",
       "    }\n",
       "</style>\n",
       "<table border=\"1\" class=\"dataframe\">\n",
       "  <thead>\n",
       "    <tr style=\"text-align: right;\">\n",
       "      <th></th>\n",
       "      <th>age</th>\n",
       "      <th>Cholesterol</th>\n",
       "      <th>weight</th>\n",
       "    </tr>\n",
       "  </thead>\n",
       "  <tbody>\n",
       "    <tr>\n",
       "      <th>0</th>\n",
       "      <td>65</td>\n",
       "      <td>69.0</td>\n",
       "      <td>111.0</td>\n",
       "    </tr>\n",
       "    <tr>\n",
       "      <th>1</th>\n",
       "      <td>54</td>\n",
       "      <td>117.0</td>\n",
       "      <td>81.0</td>\n",
       "    </tr>\n",
       "    <tr>\n",
       "      <th>2</th>\n",
       "      <td>61</td>\n",
       "      <td>86.2</td>\n",
       "      <td>72.0</td>\n",
       "    </tr>\n",
       "    <tr>\n",
       "      <th>3</th>\n",
       "      <td>57</td>\n",
       "      <td>76.0</td>\n",
       "      <td>78.0</td>\n",
       "    </tr>\n",
       "    <tr>\n",
       "      <th>4</th>\n",
       "      <td>62</td>\n",
       "      <td>160.0</td>\n",
       "      <td>61.0</td>\n",
       "    </tr>\n",
       "  </tbody>\n",
       "</table>\n",
       "</div>"
      ],
      "text/plain": [
       "   age  Cholesterol  weight\n",
       "0   65         69.0   111.0\n",
       "1   54        117.0    81.0\n",
       "2   61         86.2    72.0\n",
       "3   57         76.0    78.0\n",
       "4   62        160.0    61.0"
      ]
     },
     "execution_count": 8,
     "metadata": {},
     "output_type": "execute_result"
    }
   ],
   "source": [
    "import pandas as pd \n",
    "df= pd.read_csv('https://raw.githubusercontent.com/Datamanim/datarepo/main/adp/28/p7.csv')\n",
    "df.head()"
   ]
  },
  {
   "cell_type": "code",
   "execution_count": null,
   "id": "210bbcd7",
   "metadata": {},
   "outputs": [],
   "source": []
  },
  {
   "cell_type": "markdown",
   "id": "a36ea10f",
   "metadata": {},
   "source": [
    "### 3-2) age와 Cholesterol을 가지고 weight를 예측하는 선형 회귀 모델을 만들려고한다. age의 회귀 계수를 구하여라"
   ]
  },
  {
   "cell_type": "code",
   "execution_count": null,
   "id": "72987257",
   "metadata": {},
   "outputs": [],
   "source": []
  },
  {
   "cell_type": "code",
   "execution_count": null,
   "id": "cb57a82c",
   "metadata": {},
   "outputs": [],
   "source": []
  },
  {
   "cell_type": "code",
   "execution_count": null,
   "id": "c308d5c6",
   "metadata": {},
   "outputs": [],
   "source": []
  },
  {
   "cell_type": "code",
   "execution_count": null,
   "id": "9e581bf4",
   "metadata": {},
   "outputs": [],
   "source": []
  },
  {
   "cell_type": "code",
   "execution_count": null,
   "id": "a2f65e4d",
   "metadata": {},
   "outputs": [],
   "source": []
  },
  {
   "cell_type": "code",
   "execution_count": null,
   "id": "8375cae5",
   "metadata": {},
   "outputs": [],
   "source": [
    "import statsmodels.api as sm\n",
    "X = sm.add_constant(df[['age', 'Cholesterol']]) \n",
    "model = sm.OLS(df['weight'], X)\n",
    "results = model.fit()\n",
    "\n",
    "# 전체 회귀 결과 출력\n",
    "# print(results.summary())\n",
    "\n",
    "print(results.params['age'])"
   ]
  },
  {
   "cell_type": "markdown",
   "id": "79579c48",
   "metadata": {},
   "source": [
    "### 3-3) age가 고정일 때 Cholesterol와 weight가 선형관계에 있다는 가설을 유의수준 0.05하에 검정하라"
   ]
  },
  {
   "cell_type": "code",
   "execution_count": null,
   "id": "6329dd9f",
   "metadata": {},
   "outputs": [],
   "source": []
  },
  {
   "cell_type": "code",
   "execution_count": null,
   "id": "9ea8ff73",
   "metadata": {},
   "outputs": [],
   "source": []
  },
  {
   "cell_type": "code",
   "execution_count": null,
   "id": "b7e1183e",
   "metadata": {},
   "outputs": [],
   "source": []
  },
  {
   "cell_type": "code",
   "execution_count": null,
   "id": "4ff76cbb",
   "metadata": {},
   "outputs": [],
   "source": []
  },
  {
   "cell_type": "code",
   "execution_count": null,
   "id": "e52eb202",
   "metadata": {},
   "outputs": [],
   "source": [
    "H = results.pvalues['Cholesterol']\n",
    "\n",
    "if H <0.05 : \n",
    "    print('선형 관계에 있다.')\n",
    "    \n",
    "else:\n",
    "    print('선형 관계에 없다.')"
   ]
  },
  {
   "cell_type": "markdown",
   "id": "f2c3e70e",
   "metadata": {},
   "source": [
    "### 3-4) age가 55, Cholesterol가 72.6일때 위 모델을 기반으로 weight값을 예측하라."
   ]
  },
  {
   "cell_type": "code",
   "execution_count": null,
   "id": "2d06db55",
   "metadata": {},
   "outputs": [],
   "source": []
  },
  {
   "cell_type": "code",
   "execution_count": null,
   "id": "0b05d27b",
   "metadata": {},
   "outputs": [],
   "source": []
  },
  {
   "cell_type": "code",
   "execution_count": null,
   "id": "1ef6aaf5",
   "metadata": {},
   "outputs": [],
   "source": []
  },
  {
   "cell_type": "code",
   "execution_count": null,
   "id": "80b89cfe",
   "metadata": {},
   "outputs": [],
   "source": []
  },
  {
   "cell_type": "code",
   "execution_count": null,
   "id": "360bb0a1",
   "metadata": {},
   "outputs": [],
   "source": []
  },
  {
   "cell_type": "code",
   "execution_count": null,
   "id": "e237ed96",
   "metadata": {},
   "outputs": [],
   "source": []
  },
  {
   "cell_type": "code",
   "execution_count": null,
   "id": "f245b6a5",
   "metadata": {},
   "outputs": [],
   "source": [
    "pred = results.predict([1,55,72.6]) # const , age,Cholesterol\n",
    "print(pred[0])"
   ]
  }
 ],
 "metadata": {
  "kernelspec": {
   "display_name": "gigabitamin",
   "language": "python",
   "name": "gigabitamin"
  },
  "language_info": {
   "codemirror_mode": {
    "name": "ipython",
    "version": 3
   },
   "file_extension": ".py",
   "mimetype": "text/x-python",
   "name": "python",
   "nbconvert_exporter": "python",
   "pygments_lexer": "ipython3",
   "version": "3.11.5"
  }
 },
 "nbformat": 4,
 "nbformat_minor": 5
}
