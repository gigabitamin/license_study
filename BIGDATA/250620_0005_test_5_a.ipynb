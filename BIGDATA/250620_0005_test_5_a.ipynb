{
 "cells": [
  {
   "cell_type": "markdown",
   "id": "58a3a6fa",
   "metadata": {},
   "source": [
    "# 빅분기 기출 변형 #5"
   ]
  },
  {
   "cell_type": "code",
   "execution_count": 1,
   "id": "fedb12b4",
   "metadata": {},
   "outputs": [],
   "source": [
    "# 여러줄 출력 가능\n",
    "from IPython.core.interactiveshell import InteractiveShell\n",
    "InteractiveShell.ast_node_interactivity = \"all\""
   ]
  },
  {
   "cell_type": "code",
   "execution_count": null,
   "id": "ebf1358f",
   "metadata": {},
   "outputs": [],
   "source": []
  },
  {
   "cell_type": "markdown",
   "id": "253a76fa",
   "metadata": {},
   "source": [
    "# 1 유형"
   ]
  },
  {
   "cell_type": "markdown",
   "id": "80346f54",
   "metadata": {},
   "source": [
    "DataUrl = https://raw.githubusercontent.com/Datamanim/datarepo/main/krdatacertificate/e5_p1_1.csv  \n",
    "종량제 봉투 가격 데이터 : https://www.data.go.kr/data/15025538/standard.do  "
   ]
  },
  {
   "cell_type": "markdown",
   "id": "7f25b6f0",
   "metadata": {},
   "source": [
    "### 1-1) 20L가격과 5L가격이 모두 0원이 아닌 데이터만 필터를 한 후, 각 row별로 20L가격과 5L가격의 차이를 ‘차이가격’ 이라 부른다고 하자. 시도명 별 차이가격의 평균가격을 비교할때 그 값이 가장 큰 금액을 반올림하여 소숫점 이하 1자리까지 구하여라"
   ]
  },
  {
   "cell_type": "code",
   "execution_count": 9,
   "id": "10d6a948",
   "metadata": {},
   "outputs": [
    {
     "data": {
      "text/html": [
       "<div>\n",
       "<style scoped>\n",
       "    .dataframe tbody tr th:only-of-type {\n",
       "        vertical-align: middle;\n",
       "    }\n",
       "\n",
       "    .dataframe tbody tr th {\n",
       "        vertical-align: top;\n",
       "    }\n",
       "\n",
       "    .dataframe thead th {\n",
       "        text-align: right;\n",
       "    }\n",
       "</style>\n",
       "<table border=\"1\" class=\"dataframe\">\n",
       "  <thead>\n",
       "    <tr style=\"text-align: right;\">\n",
       "      <th></th>\n",
       "      <th>시도명</th>\n",
       "      <th>시군구명</th>\n",
       "      <th>종량제봉투종류</th>\n",
       "      <th>종량제봉투처리방식</th>\n",
       "      <th>종량제봉투용도</th>\n",
       "      <th>종량제봉투사용대상</th>\n",
       "      <th>1L가격</th>\n",
       "      <th>1.5L가격</th>\n",
       "      <th>2L가격</th>\n",
       "      <th>2.5L가격</th>\n",
       "      <th>...</th>\n",
       "      <th>60L가격</th>\n",
       "      <th>75L가격</th>\n",
       "      <th>100L가격</th>\n",
       "      <th>120L가격</th>\n",
       "      <th>125L가격</th>\n",
       "      <th>관리부서명</th>\n",
       "      <th>관리부서전화번호</th>\n",
       "      <th>데이터기준일자</th>\n",
       "      <th>제공기관코드</th>\n",
       "      <th>제공기관명</th>\n",
       "    </tr>\n",
       "  </thead>\n",
       "  <tbody>\n",
       "    <tr>\n",
       "      <th>0</th>\n",
       "      <td>경기도</td>\n",
       "      <td>안양시</td>\n",
       "      <td>규격봉투</td>\n",
       "      <td>매립용</td>\n",
       "      <td>생활쓰레기</td>\n",
       "      <td>사업장용</td>\n",
       "      <td>0</td>\n",
       "      <td>0</td>\n",
       "      <td>0</td>\n",
       "      <td>0</td>\n",
       "      <td>...</td>\n",
       "      <td>0</td>\n",
       "      <td>2100</td>\n",
       "      <td>0</td>\n",
       "      <td>0</td>\n",
       "      <td>0</td>\n",
       "      <td>자원순환과</td>\n",
       "      <td>031-8045-5448</td>\n",
       "      <td>2022-08-12</td>\n",
       "      <td>3830000</td>\n",
       "      <td>경기도 안양시</td>\n",
       "    </tr>\n",
       "    <tr>\n",
       "      <th>1</th>\n",
       "      <td>경기도</td>\n",
       "      <td>안양시</td>\n",
       "      <td>규격봉투</td>\n",
       "      <td>매립용</td>\n",
       "      <td>생활쓰레기</td>\n",
       "      <td>기타</td>\n",
       "      <td>0</td>\n",
       "      <td>0</td>\n",
       "      <td>0</td>\n",
       "      <td>0</td>\n",
       "      <td>...</td>\n",
       "      <td>0</td>\n",
       "      <td>2100</td>\n",
       "      <td>0</td>\n",
       "      <td>0</td>\n",
       "      <td>0</td>\n",
       "      <td>자원순환과</td>\n",
       "      <td>031-8045-5448</td>\n",
       "      <td>2022-08-12</td>\n",
       "      <td>3830000</td>\n",
       "      <td>경기도 안양시</td>\n",
       "    </tr>\n",
       "    <tr>\n",
       "      <th>2</th>\n",
       "      <td>경기도</td>\n",
       "      <td>안양시</td>\n",
       "      <td>규격봉투</td>\n",
       "      <td>소각용</td>\n",
       "      <td>음식물쓰레기</td>\n",
       "      <td>가정용</td>\n",
       "      <td>0</td>\n",
       "      <td>50</td>\n",
       "      <td>0</td>\n",
       "      <td>80</td>\n",
       "      <td>...</td>\n",
       "      <td>0</td>\n",
       "      <td>0</td>\n",
       "      <td>0</td>\n",
       "      <td>0</td>\n",
       "      <td>0</td>\n",
       "      <td>자원순환과</td>\n",
       "      <td>031-8045-5448</td>\n",
       "      <td>2022-08-12</td>\n",
       "      <td>3830000</td>\n",
       "      <td>경기도 안양시</td>\n",
       "    </tr>\n",
       "    <tr>\n",
       "      <th>3</th>\n",
       "      <td>경기도</td>\n",
       "      <td>안양시</td>\n",
       "      <td>규격봉투</td>\n",
       "      <td>소각용</td>\n",
       "      <td>음식물쓰레기</td>\n",
       "      <td>사업장용</td>\n",
       "      <td>0</td>\n",
       "      <td>50</td>\n",
       "      <td>0</td>\n",
       "      <td>80</td>\n",
       "      <td>...</td>\n",
       "      <td>0</td>\n",
       "      <td>0</td>\n",
       "      <td>0</td>\n",
       "      <td>0</td>\n",
       "      <td>0</td>\n",
       "      <td>자원순환과</td>\n",
       "      <td>031-8045-5448</td>\n",
       "      <td>2022-08-12</td>\n",
       "      <td>3830000</td>\n",
       "      <td>경기도 안양시</td>\n",
       "    </tr>\n",
       "    <tr>\n",
       "      <th>4</th>\n",
       "      <td>경기도</td>\n",
       "      <td>안양시</td>\n",
       "      <td>규격봉투</td>\n",
       "      <td>소각용</td>\n",
       "      <td>음식물쓰레기</td>\n",
       "      <td>기타</td>\n",
       "      <td>0</td>\n",
       "      <td>50</td>\n",
       "      <td>0</td>\n",
       "      <td>80</td>\n",
       "      <td>...</td>\n",
       "      <td>0</td>\n",
       "      <td>0</td>\n",
       "      <td>0</td>\n",
       "      <td>0</td>\n",
       "      <td>0</td>\n",
       "      <td>자원순환과</td>\n",
       "      <td>031-8045-5448</td>\n",
       "      <td>2022-08-12</td>\n",
       "      <td>3830000</td>\n",
       "      <td>경기도 안양시</td>\n",
       "    </tr>\n",
       "  </tbody>\n",
       "</table>\n",
       "<p>5 rows × 26 columns</p>\n",
       "</div>"
      ],
      "text/plain": [
       "   시도명 시군구명 종량제봉투종류 종량제봉투처리방식 종량제봉투용도 종량제봉투사용대상  1L가격  1.5L가격  2L가격  2.5L가격  \\\n",
       "0  경기도  안양시    규격봉투       매립용   생활쓰레기      사업장용     0       0     0       0   \n",
       "1  경기도  안양시    규격봉투       매립용   생활쓰레기        기타     0       0     0       0   \n",
       "2  경기도  안양시    규격봉투       소각용  음식물쓰레기       가정용     0      50     0      80   \n",
       "3  경기도  안양시    규격봉투       소각용  음식물쓰레기      사업장용     0      50     0      80   \n",
       "4  경기도  안양시    규격봉투       소각용  음식물쓰레기        기타     0      50     0      80   \n",
       "\n",
       "   ...  60L가격  75L가격  100L가격  120L가격  125L가격  관리부서명       관리부서전화번호  \\\n",
       "0  ...      0   2100       0       0       0  자원순환과  031-8045-5448   \n",
       "1  ...      0   2100       0       0       0  자원순환과  031-8045-5448   \n",
       "2  ...      0      0       0       0       0  자원순환과  031-8045-5448   \n",
       "3  ...      0      0       0       0       0  자원순환과  031-8045-5448   \n",
       "4  ...      0      0       0       0       0  자원순환과  031-8045-5448   \n",
       "\n",
       "      데이터기준일자   제공기관코드    제공기관명  \n",
       "0  2022-08-12  3830000  경기도 안양시  \n",
       "1  2022-08-12  3830000  경기도 안양시  \n",
       "2  2022-08-12  3830000  경기도 안양시  \n",
       "3  2022-08-12  3830000  경기도 안양시  \n",
       "4  2022-08-12  3830000  경기도 안양시  \n",
       "\n",
       "[5 rows x 26 columns]"
      ]
     },
     "execution_count": 9,
     "metadata": {},
     "output_type": "execute_result"
    }
   ],
   "source": [
    "import pandas as pd\n",
    "df = pd.read_csv('https://raw.githubusercontent.com/Datamanim/datarepo/main/krdatacertificate/e5_p1_1_.csv')\n",
    "df.head(5)"
   ]
  },
  {
   "cell_type": "code",
   "execution_count": null,
   "id": "d40c1336",
   "metadata": {},
   "outputs": [],
   "source": []
  },
  {
   "cell_type": "code",
   "execution_count": null,
   "id": "7ab175d7",
   "metadata": {},
   "outputs": [],
   "source": []
  },
  {
   "cell_type": "code",
   "execution_count": null,
   "id": "e836ed12",
   "metadata": {},
   "outputs": [],
   "source": []
  },
  {
   "cell_type": "code",
   "execution_count": null,
   "id": "37a08adb",
   "metadata": {},
   "outputs": [],
   "source": []
  },
  {
   "cell_type": "code",
   "execution_count": null,
   "id": "b96b1729",
   "metadata": {},
   "outputs": [],
   "source": [
    "pd.set_option('display.max_columns',100)\n",
    "\n",
    "f = df[(df['5L가격'] != 0) & ((df['20L가격'] != 0))].reset_index(drop=True)\n",
    "f['차이가격'] = f['20L가격'] -f['5L가격']\n",
    "\n",
    "r = f.groupby(['시도명'])['차이가격'].mean().sort_values().to_frame()\n",
    "display(r.tail(3))\n",
    "result = r['차이가격'].max().round(1)\n",
    "print(result)"
   ]
  },
  {
   "cell_type": "markdown",
   "id": "70b304de",
   "metadata": {},
   "source": [
    "DataUrl = https://raw.githubusercontent.com/Datamanim/datarepo/main/krdatacertificate/e5_p1_2.csv  \n",
    "성인 체중 및 키"
   ]
  },
  {
   "cell_type": "markdown",
   "id": "1b82ce0e",
   "metadata": {},
   "source": [
    "### 1-2) BMI는 몸무게(kg) / (키(M) * 키(M)) 로 정의 된다. 초고도 비만은 BMI 25이상 , 고도 비반은 BMI 25미만 - 23이상 , 정상은 23미만 - 18.5이상 저체중은 18.5미만으로 정의 된다. 주어진 데이터에서 초고도비만 인원 + 저체중 인원 의 숫자는?"
   ]
  },
  {
   "cell_type": "code",
   "execution_count": 10,
   "id": "3897508c",
   "metadata": {},
   "outputs": [
    {
     "data": {
      "text/html": [
       "<div>\n",
       "<style scoped>\n",
       "    .dataframe tbody tr th:only-of-type {\n",
       "        vertical-align: middle;\n",
       "    }\n",
       "\n",
       "    .dataframe tbody tr th {\n",
       "        vertical-align: top;\n",
       "    }\n",
       "\n",
       "    .dataframe thead th {\n",
       "        text-align: right;\n",
       "    }\n",
       "</style>\n",
       "<table border=\"1\" class=\"dataframe\">\n",
       "  <thead>\n",
       "    <tr style=\"text-align: right;\">\n",
       "      <th></th>\n",
       "      <th>ID</th>\n",
       "      <th>height(cm)</th>\n",
       "      <th>weight(kg)</th>\n",
       "    </tr>\n",
       "  </thead>\n",
       "  <tbody>\n",
       "    <tr>\n",
       "      <th>0</th>\n",
       "      <td>user_1</td>\n",
       "      <td>173.0</td>\n",
       "      <td>67.5</td>\n",
       "    </tr>\n",
       "    <tr>\n",
       "      <th>1</th>\n",
       "      <td>user_2</td>\n",
       "      <td>149.5</td>\n",
       "      <td>82.5</td>\n",
       "    </tr>\n",
       "    <tr>\n",
       "      <th>2</th>\n",
       "      <td>user_3</td>\n",
       "      <td>143.8</td>\n",
       "      <td>64.6</td>\n",
       "    </tr>\n",
       "    <tr>\n",
       "      <th>3</th>\n",
       "      <td>user_4</td>\n",
       "      <td>163.1</td>\n",
       "      <td>87.2</td>\n",
       "    </tr>\n",
       "    <tr>\n",
       "      <th>4</th>\n",
       "      <td>user_5</td>\n",
       "      <td>159.6</td>\n",
       "      <td>77.1</td>\n",
       "    </tr>\n",
       "  </tbody>\n",
       "</table>\n",
       "</div>"
      ],
      "text/plain": [
       "       ID  height(cm)  weight(kg)\n",
       "0  user_1       173.0        67.5\n",
       "1  user_2       149.5        82.5\n",
       "2  user_3       143.8        64.6\n",
       "3  user_4       163.1        87.2\n",
       "4  user_5       159.6        77.1"
      ]
     },
     "execution_count": 10,
     "metadata": {},
     "output_type": "execute_result"
    }
   ],
   "source": [
    "import pandas as pd\n",
    "df = pd.read_csv('https://raw.githubusercontent.com/Datamanim/datarepo/main/krdatacertificate/e5_p1_2_.csv')\n",
    "df.head(5)"
   ]
  },
  {
   "cell_type": "code",
   "execution_count": null,
   "id": "35b7fcd7",
   "metadata": {},
   "outputs": [],
   "source": []
  },
  {
   "cell_type": "code",
   "execution_count": null,
   "id": "9eb412b1",
   "metadata": {},
   "outputs": [],
   "source": []
  },
  {
   "cell_type": "code",
   "execution_count": null,
   "id": "c6ab35f2",
   "metadata": {},
   "outputs": [],
   "source": []
  },
  {
   "cell_type": "code",
   "execution_count": null,
   "id": "db05d19e",
   "metadata": {},
   "outputs": [],
   "source": []
  },
  {
   "cell_type": "code",
   "execution_count": null,
   "id": "613b1ea2",
   "metadata": {},
   "outputs": [],
   "source": []
  },
  {
   "cell_type": "code",
   "execution_count": null,
   "id": "d59b63c0",
   "metadata": {},
   "outputs": [],
   "source": [
    "def category(x):\n",
    "    if x >=25:\n",
    "        return 'a'\n",
    "    \n",
    "    elif x >=23:\n",
    "        return 'b'\n",
    "\n",
    "    elif x >= 18.5:\n",
    "        return 'c'\n",
    "    \n",
    "    else:\n",
    "        return 'd'\n",
    "    \n",
    "df['bmi'] = df[df.columns[2]] / (df[df.columns[1]] /100)**2\n",
    "df['bmi_category'] = df['bmi'].map(category)\n",
    "result  = df[df.bmi_category.isin(['a','d'])].shape[0]\n",
    "print(result) # 데이터를 잘못 만들었는지 정상이 아닌 사람이 엄청 많네요...."
   ]
  },
  {
   "cell_type": "markdown",
   "id": "89cd9577",
   "metadata": {},
   "source": [
    "DataUrl = https://raw.githubusercontent.com/Datamanim/datarepo/main/krdatacertificate/e5_p1_2.csv  \n",
    "년도별 서울 각 구의 초,중,고 전출 전입 인원 : https://data.seoul.go.kr/dataList/10729/S/2/datasetView.do  \n",
    "& 후처리"
   ]
  },
  {
   "cell_type": "markdown",
   "id": "9553e713",
   "metadata": {},
   "source": [
    "### 1-3) 순유입인원은 초중고 도내,도외 전입인원에서 초중고 도내, 도외 전출인원을 뺀값이다. 각년도별로 가장 큰 순유입인원을 가진 지역구의 순유입인원을 구하고 전체 기간의 해당 순유입인원들의 합을 구하여라"
   ]
  },
  {
   "cell_type": "code",
   "execution_count": 11,
   "id": "3af3333c",
   "metadata": {},
   "outputs": [
    {
     "data": {
      "text/html": [
       "<div>\n",
       "<style scoped>\n",
       "    .dataframe tbody tr th:only-of-type {\n",
       "        vertical-align: middle;\n",
       "    }\n",
       "\n",
       "    .dataframe tbody tr th {\n",
       "        vertical-align: top;\n",
       "    }\n",
       "\n",
       "    .dataframe thead th {\n",
       "        text-align: right;\n",
       "    }\n",
       "</style>\n",
       "<table border=\"1\" class=\"dataframe\">\n",
       "  <thead>\n",
       "    <tr style=\"text-align: right;\">\n",
       "      <th></th>\n",
       "      <th>지역</th>\n",
       "      <th>초등학교_전출_도내</th>\n",
       "      <th>초등학교_전출_도외</th>\n",
       "      <th>초등학교_전입_도내</th>\n",
       "      <th>초등학교_전입_도외</th>\n",
       "      <th>중학교_전출_도내</th>\n",
       "      <th>중학교_전출_도외</th>\n",
       "      <th>중학교_전입_도내</th>\n",
       "      <th>중학교_전입_도외</th>\n",
       "      <th>고등학교_전출_도내</th>\n",
       "      <th>고등학교_전출_도외</th>\n",
       "      <th>고등학교_전입_도내</th>\n",
       "      <th>고등학교_전입_도외</th>\n",
       "      <th>년도</th>\n",
       "    </tr>\n",
       "  </thead>\n",
       "  <tbody>\n",
       "    <tr>\n",
       "      <th>0</th>\n",
       "      <td>종로구</td>\n",
       "      <td>221</td>\n",
       "      <td>132</td>\n",
       "      <td>255</td>\n",
       "      <td>126</td>\n",
       "      <td>63</td>\n",
       "      <td>71</td>\n",
       "      <td>104</td>\n",
       "      <td>73</td>\n",
       "      <td>203</td>\n",
       "      <td>72</td>\n",
       "      <td>166</td>\n",
       "      <td>75</td>\n",
       "      <td>2012</td>\n",
       "    </tr>\n",
       "    <tr>\n",
       "      <th>1</th>\n",
       "      <td>중구</td>\n",
       "      <td>295</td>\n",
       "      <td>139</td>\n",
       "      <td>203</td>\n",
       "      <td>100</td>\n",
       "      <td>66</td>\n",
       "      <td>43</td>\n",
       "      <td>58</td>\n",
       "      <td>44</td>\n",
       "      <td>156</td>\n",
       "      <td>37</td>\n",
       "      <td>104</td>\n",
       "      <td>39</td>\n",
       "      <td>2012</td>\n",
       "    </tr>\n",
       "    <tr>\n",
       "      <th>2</th>\n",
       "      <td>용산구</td>\n",
       "      <td>380</td>\n",
       "      <td>269</td>\n",
       "      <td>302</td>\n",
       "      <td>174</td>\n",
       "      <td>134</td>\n",
       "      <td>78</td>\n",
       "      <td>91</td>\n",
       "      <td>106</td>\n",
       "      <td>102</td>\n",
       "      <td>66</td>\n",
       "      <td>113</td>\n",
       "      <td>48</td>\n",
       "      <td>2012</td>\n",
       "    </tr>\n",
       "    <tr>\n",
       "      <th>3</th>\n",
       "      <td>성동구</td>\n",
       "      <td>643</td>\n",
       "      <td>344</td>\n",
       "      <td>376</td>\n",
       "      <td>221</td>\n",
       "      <td>154</td>\n",
       "      <td>103</td>\n",
       "      <td>98</td>\n",
       "      <td>82</td>\n",
       "      <td>179</td>\n",
       "      <td>37</td>\n",
       "      <td>153</td>\n",
       "      <td>41</td>\n",
       "      <td>2012</td>\n",
       "    </tr>\n",
       "    <tr>\n",
       "      <th>4</th>\n",
       "      <td>광진구</td>\n",
       "      <td>560</td>\n",
       "      <td>382</td>\n",
       "      <td>595</td>\n",
       "      <td>312</td>\n",
       "      <td>165</td>\n",
       "      <td>158</td>\n",
       "      <td>158</td>\n",
       "      <td>118</td>\n",
       "      <td>115</td>\n",
       "      <td>70</td>\n",
       "      <td>154</td>\n",
       "      <td>66</td>\n",
       "      <td>2012</td>\n",
       "    </tr>\n",
       "  </tbody>\n",
       "</table>\n",
       "</div>"
      ],
      "text/plain": [
       "    지역  초등학교_전출_도내  초등학교_전출_도외  초등학교_전입_도내  초등학교_전입_도외  중학교_전출_도내  중학교_전출_도외  \\\n",
       "0  종로구         221         132         255         126         63         71   \n",
       "1   중구         295         139         203         100         66         43   \n",
       "2  용산구         380         269         302         174        134         78   \n",
       "3  성동구         643         344         376         221        154        103   \n",
       "4  광진구         560         382         595         312        165        158   \n",
       "\n",
       "   중학교_전입_도내  중학교_전입_도외  고등학교_전출_도내  고등학교_전출_도외  고등학교_전입_도내  고등학교_전입_도외    년도  \n",
       "0        104         73         203          72         166          75  2012  \n",
       "1         58         44         156          37         104          39  2012  \n",
       "2         91        106         102          66         113          48  2012  \n",
       "3         98         82         179          37         153          41  2012  \n",
       "4        158        118         115          70         154          66  2012  "
      ]
     },
     "execution_count": 11,
     "metadata": {},
     "output_type": "execute_result"
    }
   ],
   "source": [
    "import pandas as pd\n",
    "df = pd.read_csv('https://raw.githubusercontent.com/Datamanim/datarepo/main/krdatacertificate/e5_p1_3.csv')\n",
    "df.head(5)"
   ]
  },
  {
   "cell_type": "code",
   "execution_count": null,
   "id": "0b465ab1",
   "metadata": {},
   "outputs": [],
   "source": []
  },
  {
   "cell_type": "code",
   "execution_count": null,
   "id": "33a278ef",
   "metadata": {},
   "outputs": [],
   "source": []
  },
  {
   "cell_type": "code",
   "execution_count": null,
   "id": "3b8ebafa",
   "metadata": {},
   "outputs": [],
   "source": []
  },
  {
   "cell_type": "code",
   "execution_count": null,
   "id": "3b67c79f",
   "metadata": {},
   "outputs": [],
   "source": []
  },
  {
   "cell_type": "code",
   "execution_count": null,
   "id": "f2add54b",
   "metadata": {},
   "outputs": [],
   "source": []
  },
  {
   "cell_type": "code",
   "execution_count": null,
   "id": "d209394c",
   "metadata": {},
   "outputs": [],
   "source": []
  },
  {
   "cell_type": "code",
   "execution_count": null,
   "id": "533db588",
   "metadata": {},
   "outputs": [],
   "source": [
    "df['순유입인원'] = \\\n",
    "df[[x for x in df.columns if '전입' in x]].sum(axis=1) -\\\n",
    "df[[x for x in df.columns if '전출' in x ]].sum(axis=1)\n",
    "\n",
    "result = df.groupby('년도')['순유입인원'].max().sum().sum()\n",
    "print(result)"
   ]
  },
  {
   "cell_type": "markdown",
   "id": "01e3e65b",
   "metadata": {},
   "source": [
    "# 2 유형"
   ]
  },
  {
   "cell_type": "markdown",
   "id": "844b019a",
   "metadata": {},
   "source": [
    "벤츠 차량 가격 예측 : https://www.kaggle.com/datasets/mysarahmadbhat/mercedes-used-car-listing  \n",
    "train = https://raw.githubusercontent.com/Datamanim/datarepo/main/krdatacertificate/e5_p2_train_.csv  \n",
    "test = https://raw.githubusercontent.com/Datamanim/datarepo/main/krdatacertificate/e5_p2_test_.csv  \n",
    "\n",
    "예측 변수 price, test.csv에 대해 ID별로 price 값을 예측하여 제출,   \n",
    "제출 데이터 컬럼은 ID와 price 두개만 존재해야함.    \n",
    "평가지표는 rmse  "
   ]
  },
  {
   "cell_type": "code",
   "execution_count": 12,
   "id": "5d0df4fa",
   "metadata": {},
   "outputs": [
    {
     "data": {
      "text/html": [
       "<div>\n",
       "<style scoped>\n",
       "    .dataframe tbody tr th:only-of-type {\n",
       "        vertical-align: middle;\n",
       "    }\n",
       "\n",
       "    .dataframe tbody tr th {\n",
       "        vertical-align: top;\n",
       "    }\n",
       "\n",
       "    .dataframe thead th {\n",
       "        text-align: right;\n",
       "    }\n",
       "</style>\n",
       "<table border=\"1\" class=\"dataframe\">\n",
       "  <thead>\n",
       "    <tr style=\"text-align: right;\">\n",
       "      <th></th>\n",
       "      <th>ID</th>\n",
       "      <th>model</th>\n",
       "      <th>year</th>\n",
       "      <th>price</th>\n",
       "      <th>transmission</th>\n",
       "      <th>mileage</th>\n",
       "      <th>fuelType</th>\n",
       "      <th>tax</th>\n",
       "      <th>mpg</th>\n",
       "      <th>engineSize</th>\n",
       "    </tr>\n",
       "  </thead>\n",
       "  <tbody>\n",
       "    <tr>\n",
       "      <th>0</th>\n",
       "      <td>10170</td>\n",
       "      <td>A Class</td>\n",
       "      <td>2012</td>\n",
       "      <td>11940</td>\n",
       "      <td>Automatic</td>\n",
       "      <td>46000</td>\n",
       "      <td>Diesel</td>\n",
       "      <td>30</td>\n",
       "      <td>64.2</td>\n",
       "      <td>2.1</td>\n",
       "    </tr>\n",
       "    <tr>\n",
       "      <th>1</th>\n",
       "      <td>9551</td>\n",
       "      <td>CL Class</td>\n",
       "      <td>2020</td>\n",
       "      <td>38624</td>\n",
       "      <td>Semi-Auto</td>\n",
       "      <td>19</td>\n",
       "      <td>Petrol</td>\n",
       "      <td>150</td>\n",
       "      <td>36.7</td>\n",
       "      <td>2.0</td>\n",
       "    </tr>\n",
       "  </tbody>\n",
       "</table>\n",
       "</div>"
      ],
      "text/plain": [
       "      ID      model  year  price transmission  mileage fuelType  tax   mpg  \\\n",
       "0  10170    A Class  2012  11940    Automatic    46000   Diesel   30  64.2   \n",
       "1   9551   CL Class  2020  38624    Semi-Auto       19   Petrol  150  36.7   \n",
       "\n",
       "   engineSize  \n",
       "0         2.1  \n",
       "1         2.0  "
      ]
     },
     "metadata": {},
     "output_type": "display_data"
    },
    {
     "data": {
      "text/html": [
       "<div>\n",
       "<style scoped>\n",
       "    .dataframe tbody tr th:only-of-type {\n",
       "        vertical-align: middle;\n",
       "    }\n",
       "\n",
       "    .dataframe tbody tr th {\n",
       "        vertical-align: top;\n",
       "    }\n",
       "\n",
       "    .dataframe thead th {\n",
       "        text-align: right;\n",
       "    }\n",
       "</style>\n",
       "<table border=\"1\" class=\"dataframe\">\n",
       "  <thead>\n",
       "    <tr style=\"text-align: right;\">\n",
       "      <th></th>\n",
       "      <th>ID</th>\n",
       "      <th>model</th>\n",
       "      <th>year</th>\n",
       "      <th>transmission</th>\n",
       "      <th>mileage</th>\n",
       "      <th>fuelType</th>\n",
       "      <th>tax</th>\n",
       "      <th>mpg</th>\n",
       "      <th>engineSize</th>\n",
       "    </tr>\n",
       "  </thead>\n",
       "  <tbody>\n",
       "    <tr>\n",
       "      <th>0</th>\n",
       "      <td>0</td>\n",
       "      <td>SLK</td>\n",
       "      <td>2005</td>\n",
       "      <td>Automatic</td>\n",
       "      <td>63000</td>\n",
       "      <td>Petrol</td>\n",
       "      <td>325</td>\n",
       "      <td>32.1</td>\n",
       "      <td>1.8</td>\n",
       "    </tr>\n",
       "    <tr>\n",
       "      <th>1</th>\n",
       "      <td>2</td>\n",
       "      <td>SL CLASS</td>\n",
       "      <td>2016</td>\n",
       "      <td>Automatic</td>\n",
       "      <td>6200</td>\n",
       "      <td>Petrol</td>\n",
       "      <td>555</td>\n",
       "      <td>28.0</td>\n",
       "      <td>5.5</td>\n",
       "    </tr>\n",
       "  </tbody>\n",
       "</table>\n",
       "</div>"
      ],
      "text/plain": [
       "   ID      model  year transmission  mileage fuelType  tax   mpg  engineSize\n",
       "0   0        SLK  2005    Automatic    63000   Petrol  325  32.1         1.8\n",
       "1   2   SL CLASS  2016    Automatic     6200   Petrol  555  28.0         5.5"
      ]
     },
     "execution_count": 12,
     "metadata": {},
     "output_type": "execute_result"
    }
   ],
   "source": [
    "import pandas as pd\n",
    "train = pd.read_csv('https://raw.githubusercontent.com/Datamanim/datarepo/main/krdatacertificate/e5_p2_train_.csv')\n",
    "test = pd.read_csv('https://raw.githubusercontent.com/Datamanim/datarepo/main/krdatacertificate/e5_p2_test_.csv')\n",
    "\n",
    "display(train.head(2))\n",
    "test.head(2)"
   ]
  },
  {
   "cell_type": "code",
   "execution_count": null,
   "id": "9edcfb9d",
   "metadata": {},
   "outputs": [],
   "source": []
  },
  {
   "cell_type": "code",
   "execution_count": null,
   "id": "d1cea4bb",
   "metadata": {},
   "outputs": [],
   "source": []
  },
  {
   "cell_type": "code",
   "execution_count": null,
   "id": "0a8a5aaa",
   "metadata": {},
   "outputs": [],
   "source": []
  },
  {
   "cell_type": "code",
   "execution_count": null,
   "id": "f3568ba2",
   "metadata": {},
   "outputs": [],
   "source": []
  },
  {
   "cell_type": "code",
   "execution_count": null,
   "id": "ed2ccb46",
   "metadata": {},
   "outputs": [],
   "source": []
  },
  {
   "cell_type": "code",
   "execution_count": null,
   "id": "a26b5cc7",
   "metadata": {},
   "outputs": [],
   "source": []
  },
  {
   "cell_type": "code",
   "execution_count": null,
   "id": "6090e5b9",
   "metadata": {},
   "outputs": [],
   "source": []
  },
  {
   "cell_type": "code",
   "execution_count": null,
   "id": "c003133d",
   "metadata": {},
   "outputs": [],
   "source": []
  },
  {
   "cell_type": "code",
   "execution_count": null,
   "id": "54b74d5c",
   "metadata": {},
   "outputs": [],
   "source": [
    "from sklearn.model_selection import train_test_split\n",
    "from sklearn.metrics import mean_squared_error\n",
    "from sklearn.ensemble import RandomForestRegressor\n",
    "import numpy as np\n",
    "y = train['price']\n",
    "x = train.drop(columns =['price','ID'])\n",
    "test_x = test.drop(columns =['ID'])\n",
    "\n",
    "\n",
    "dum_x = pd.get_dummies(x)\n",
    "\n",
    "\n",
    "# train에는 있고, test에는 없는 데이터 존재 컬럼숫자가 다름 -> reindex해줘야함\n",
    "dum_test = pd.get_dummies(test_x)\n",
    "dum_test = dum_test.reindex(columns = dum_x.columns, fill_value=0)\n",
    "\n",
    "\n",
    "\n",
    "x_train,x_test,y_train,y_test = train_test_split(dum_x,y)\n",
    "\n",
    "\n",
    "rr = RandomForestRegressor()\n",
    "rr.fit(x_train,y_train)\n",
    "\n",
    "\n",
    "pred = rr.predict(x_test)\n",
    "print('test rmse', np.sqrt(mean_squared_error(y_test,pred)))\n",
    "\n",
    "\n",
    "pred_test = rr.predict(dum_test)\n",
    "\n",
    "sumission = pd.DataFrame()\n",
    "sumission['ID'] = test['ID']\n",
    "sumission['price']  = pred_test\n",
    "sumission.head()\n",
    "# sumission.to_csv('00000000.csv',index=Fasle)"
   ]
  },
  {
   "cell_type": "markdown",
   "id": "1a221dc2",
   "metadata": {},
   "source": [
    "# 3 유형"
   ]
  },
  {
   "cell_type": "markdown",
   "id": "90c1eec9",
   "metadata": {},
   "source": [
    "### 3-1-1) 55명 학생들의 키에 대한 표본 평균을 구하여라(반올림하여 소숫점 3째자리까지"
   ]
  },
  {
   "cell_type": "markdown",
   "id": "c9ea09db",
   "metadata": {},
   "source": [
    "어느 학교에서 추출한 55명 학생들의 키 정보이다.\n",
    "DataUrl = https://raw.githubusercontent.com/Datamanim/datarepo/main/krdatacertificate/e5_p3_1.csv 이 학생들의 키의 95% 신뢰구간을 구하고자 한다."
   ]
  },
  {
   "cell_type": "code",
   "execution_count": 13,
   "id": "1e68be55",
   "metadata": {},
   "outputs": [
    {
     "data": {
      "text/html": [
       "<div>\n",
       "<style scoped>\n",
       "    .dataframe tbody tr th:only-of-type {\n",
       "        vertical-align: middle;\n",
       "    }\n",
       "\n",
       "    .dataframe tbody tr th {\n",
       "        vertical-align: top;\n",
       "    }\n",
       "\n",
       "    .dataframe thead th {\n",
       "        text-align: right;\n",
       "    }\n",
       "</style>\n",
       "<table border=\"1\" class=\"dataframe\">\n",
       "  <thead>\n",
       "    <tr style=\"text-align: right;\">\n",
       "      <th></th>\n",
       "      <th>ID</th>\n",
       "      <th>height</th>\n",
       "    </tr>\n",
       "  </thead>\n",
       "  <tbody>\n",
       "    <tr>\n",
       "      <th>0</th>\n",
       "      <td>user_1</td>\n",
       "      <td>164.57</td>\n",
       "    </tr>\n",
       "    <tr>\n",
       "      <th>1</th>\n",
       "      <td>user_2</td>\n",
       "      <td>174.99</td>\n",
       "    </tr>\n",
       "    <tr>\n",
       "      <th>2</th>\n",
       "      <td>user_3</td>\n",
       "      <td>171.41</td>\n",
       "    </tr>\n",
       "    <tr>\n",
       "      <th>3</th>\n",
       "      <td>user_4</td>\n",
       "      <td>162.47</td>\n",
       "    </tr>\n",
       "    <tr>\n",
       "      <th>4</th>\n",
       "      <td>user_5</td>\n",
       "      <td>167.11</td>\n",
       "    </tr>\n",
       "  </tbody>\n",
       "</table>\n",
       "</div>"
      ],
      "text/plain": [
       "       ID  height\n",
       "0  user_1  164.57\n",
       "1  user_2  174.99\n",
       "2  user_3  171.41\n",
       "3  user_4  162.47\n",
       "4  user_5  167.11"
      ]
     },
     "execution_count": 13,
     "metadata": {},
     "output_type": "execute_result"
    }
   ],
   "source": [
    "import pandas as pd \n",
    "df= pd.read_csv('https://raw.githubusercontent.com/Datamanim/datarepo/main/krdatacertificate/e5_p3_1.csv')\n",
    "df.head()"
   ]
  },
  {
   "cell_type": "code",
   "execution_count": null,
   "id": "b8929d0e",
   "metadata": {},
   "outputs": [],
   "source": []
  },
  {
   "cell_type": "code",
   "execution_count": null,
   "id": "b4c9a1ca",
   "metadata": {},
   "outputs": [],
   "source": []
  },
  {
   "cell_type": "code",
   "execution_count": null,
   "id": "78c0cd02",
   "metadata": {},
   "outputs": [],
   "source": []
  },
  {
   "cell_type": "code",
   "execution_count": null,
   "id": "730a1c43",
   "metadata": {},
   "outputs": [],
   "source": []
  },
  {
   "cell_type": "code",
   "execution_count": null,
   "id": "91c98312",
   "metadata": {},
   "outputs": [],
   "source": []
  },
  {
   "cell_type": "code",
   "execution_count": null,
   "id": "621e9a6c",
   "metadata": {},
   "outputs": [],
   "source": [
    "import numpy as np\n",
    "mean = np.round(np.mean(df.height),3)\n",
    "print(mean)"
   ]
  },
  {
   "cell_type": "markdown",
   "id": "cf4dbe87",
   "metadata": {},
   "source": [
    "### 3-1-2) t분포 양쪽 꼬리에서의 t 값을 구하여라 (반올림하여 소수4째자리까지)"
   ]
  },
  {
   "cell_type": "code",
   "execution_count": null,
   "id": "6327179f",
   "metadata": {},
   "outputs": [],
   "source": []
  },
  {
   "cell_type": "code",
   "execution_count": null,
   "id": "d1649912",
   "metadata": {},
   "outputs": [],
   "source": []
  },
  {
   "cell_type": "code",
   "execution_count": null,
   "id": "5ed9466b",
   "metadata": {},
   "outputs": [],
   "source": []
  },
  {
   "cell_type": "code",
   "execution_count": null,
   "id": "fcb293e3",
   "metadata": {},
   "outputs": [],
   "source": []
  },
  {
   "cell_type": "code",
   "execution_count": 3,
   "id": "0b18b1da",
   "metadata": {},
   "outputs": [
    {
     "name": "stdout",
     "output_type": "stream",
     "text": [
      "2.0049\n"
     ]
    }
   ],
   "source": [
    "import numpy as np\n",
    "from scipy.stats import t\n",
    "\n",
    "std = np.std(df.height, ddof=1)\n",
    "n = len(df.height)\n",
    "\n",
    "# 신뢰수준, 자유도\n",
    "confidence_level = 0.95\n",
    "ddof = n - 1\n",
    "\n",
    "# t 분포의 양쪽 꼬리에서의 t값\n",
    "t_value = round(t.ppf((1 + confidence_level) / 2, ddof),4)\n",
    "print(t_value)"
   ]
  },
  {
   "cell_type": "markdown",
   "id": "d083356e",
   "metadata": {},
   "source": [
    "### 3-1-3) 95% 신뢰구간을 구하여라(print(lower,upper) 방식으로 출력, 각각의 값은 소숫점 이하 3째자리까지)"
   ]
  },
  {
   "cell_type": "code",
   "execution_count": null,
   "id": "c280b618",
   "metadata": {},
   "outputs": [],
   "source": []
  },
  {
   "cell_type": "code",
   "execution_count": null,
   "id": "3f76ad1e",
   "metadata": {},
   "outputs": [],
   "source": []
  },
  {
   "cell_type": "code",
   "execution_count": null,
   "id": "428a9482",
   "metadata": {},
   "outputs": [],
   "source": []
  },
  {
   "cell_type": "code",
   "execution_count": null,
   "id": "43d17d62",
   "metadata": {},
   "outputs": [],
   "source": []
  },
  {
   "cell_type": "code",
   "execution_count": null,
   "id": "8fac3b52",
   "metadata": {},
   "outputs": [],
   "source": []
  },
  {
   "cell_type": "code",
   "execution_count": null,
   "id": "af236f08",
   "metadata": {},
   "outputs": [],
   "source": [
    "# 신뢰구간 계산\n",
    "lower = round(mean - t_value * std / np.sqrt(n),3)\n",
    "upper = round(mean + t_value * std / np.sqrt(n),3)\n",
    "print(lower,upper)"
   ]
  },
  {
   "cell_type": "markdown",
   "id": "94d321c5",
   "metadata": {},
   "source": [
    "DataUrl = https://raw.githubusercontent.com/Datamanim/datarepo/main/krdatacertificate/e5_p3_2.csv   \n",
    "A,B,C 세 공장에서 생산한 동일한 제품의 길이 데이터 이다.  \n",
    "공장간의 제품 길이 차이가 유의미한지 확인 하려한다.   "
   ]
  },
  {
   "cell_type": "code",
   "execution_count": 14,
   "id": "0f9d9124",
   "metadata": {},
   "outputs": [
    {
     "data": {
      "text/html": [
       "<div>\n",
       "<style scoped>\n",
       "    .dataframe tbody tr th:only-of-type {\n",
       "        vertical-align: middle;\n",
       "    }\n",
       "\n",
       "    .dataframe tbody tr th {\n",
       "        vertical-align: top;\n",
       "    }\n",
       "\n",
       "    .dataframe thead th {\n",
       "        text-align: right;\n",
       "    }\n",
       "</style>\n",
       "<table border=\"1\" class=\"dataframe\">\n",
       "  <thead>\n",
       "    <tr style=\"text-align: right;\">\n",
       "      <th></th>\n",
       "      <th>ID</th>\n",
       "      <th>value</th>\n",
       "    </tr>\n",
       "  </thead>\n",
       "  <tbody>\n",
       "    <tr>\n",
       "      <th>0</th>\n",
       "      <td>A</td>\n",
       "      <td>84.179434</td>\n",
       "    </tr>\n",
       "    <tr>\n",
       "      <th>1</th>\n",
       "      <td>A</td>\n",
       "      <td>93.971003</td>\n",
       "    </tr>\n",
       "    <tr>\n",
       "      <th>2</th>\n",
       "      <td>A</td>\n",
       "      <td>62.140957</td>\n",
       "    </tr>\n",
       "    <tr>\n",
       "      <th>3</th>\n",
       "      <td>A</td>\n",
       "      <td>72.911723</td>\n",
       "    </tr>\n",
       "    <tr>\n",
       "      <th>4</th>\n",
       "      <td>A</td>\n",
       "      <td>79.252747</td>\n",
       "    </tr>\n",
       "  </tbody>\n",
       "</table>\n",
       "</div>"
      ],
      "text/plain": [
       "  ID      value\n",
       "0  A  84.179434\n",
       "1  A  93.971003\n",
       "2  A  62.140957\n",
       "3  A  72.911723\n",
       "4  A  79.252747"
      ]
     },
     "execution_count": 14,
     "metadata": {},
     "output_type": "execute_result"
    }
   ],
   "source": [
    "import pandas as pd \n",
    "df= pd.read_csv('https://raw.githubusercontent.com/Datamanim/datarepo/main/krdatacertificate/e5_p3_2.csv')\n",
    "df.head()"
   ]
  },
  {
   "cell_type": "markdown",
   "id": "a36ea10f",
   "metadata": {},
   "source": [
    "### 3-2-1) 3 그룹의 데이터에 대해 크루스칼-왈리스 검정을 사용하여 검정 통계량을 반올림하여 소숫점 이하 3자리까지 구하여라"
   ]
  },
  {
   "cell_type": "code",
   "execution_count": null,
   "id": "72987257",
   "metadata": {},
   "outputs": [],
   "source": []
  },
  {
   "cell_type": "code",
   "execution_count": null,
   "id": "cb57a82c",
   "metadata": {},
   "outputs": [],
   "source": []
  },
  {
   "cell_type": "code",
   "execution_count": null,
   "id": "c308d5c6",
   "metadata": {},
   "outputs": [],
   "source": []
  },
  {
   "cell_type": "code",
   "execution_count": null,
   "id": "9e581bf4",
   "metadata": {},
   "outputs": [],
   "source": []
  },
  {
   "cell_type": "code",
   "execution_count": null,
   "id": "a2f65e4d",
   "metadata": {},
   "outputs": [],
   "source": []
  },
  {
   "cell_type": "code",
   "execution_count": 6,
   "id": "8375cae5",
   "metadata": {
    "scrolled": true
   },
   "outputs": [],
   "source": []
  },
  {
   "cell_type": "code",
   "execution_count": null,
   "id": "193a38c2",
   "metadata": {},
   "outputs": [],
   "source": []
  },
  {
   "cell_type": "code",
   "execution_count": null,
   "id": "4f94137b",
   "metadata": {},
   "outputs": [],
   "source": [
    "from scipy.stats import kruskal\n",
    "a = df[df.ID =='A'].value.values\n",
    "b = df[df.ID =='B'].value.values\n",
    "c = df[df.ID =='C'].value.values\n",
    "\n",
    "s,p = kruskal(a,b,c)\n",
    "\n",
    "round_s = round(s,3)\n",
    "print(round_s)"
   ]
  },
  {
   "cell_type": "markdown",
   "id": "23f28db9",
   "metadata": {},
   "source": [
    "### 3-2-2) 3 그룹의 데이터에 대해 크루스칼-왈리스 검정을 사용하여 p-value를 반올림하여 소숫점 이하 3자리까지 구하여라. 귀무가설과 대립가설중 0.05 유의수준에서 유의한 가설을 출력하라"
   ]
  },
  {
   "cell_type": "code",
   "execution_count": null,
   "id": "c19b782d",
   "metadata": {},
   "outputs": [],
   "source": []
  },
  {
   "cell_type": "code",
   "execution_count": null,
   "id": "18dbc20e",
   "metadata": {},
   "outputs": [],
   "source": []
  },
  {
   "cell_type": "code",
   "execution_count": null,
   "id": "bc83f98a",
   "metadata": {},
   "outputs": [],
   "source": []
  },
  {
   "cell_type": "code",
   "execution_count": null,
   "id": "d96a288a",
   "metadata": {},
   "outputs": [],
   "source": []
  },
  {
   "cell_type": "code",
   "execution_count": null,
   "id": "0ed77a59",
   "metadata": {},
   "outputs": [],
   "source": [
    "round_p = round(p,3)\n",
    "print(round_p)\n",
    "print('대립')"
   ]
  }
 ],
 "metadata": {
  "kernelspec": {
   "display_name": "gigabitamin",
   "language": "python",
   "name": "gigabitamin"
  },
  "language_info": {
   "codemirror_mode": {
    "name": "ipython",
    "version": 3
   },
   "file_extension": ".py",
   "mimetype": "text/x-python",
   "name": "python",
   "nbconvert_exporter": "python",
   "pygments_lexer": "ipython3",
   "version": "3.11.5"
  }
 },
 "nbformat": 4,
 "nbformat_minor": 5
}
